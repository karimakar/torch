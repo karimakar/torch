{
 "cells": [
  {
   "attachments": {},
   "cell_type": "markdown",
   "metadata": {},
   "source": [
    "# Linear programming "
   ]
  },
  {
   "attachments": {},
   "cell_type": "markdown",
   "metadata": {},
   "source": [
    "###  Minimization Applications "
   ]
  },
  {
   "attachments": {},
   "cell_type": "markdown",
   "metadata": {},
   "source": [
    "1 +++++++++++++++++++real world problem Minimization++++++++++++++++++++++++++\n",
    "\n",
    "At a university, Professor Symons wishes to employ two people, John and Mary, to grade papers for his classes.\n",
    "John is a graduate student and can grade 20 papers per hour; John earns $15 per hour for grading papers.\n",
    "Mary is an post-doctoral associate and can grade 30 papers per hour; Mary earns $25 per hour for grading papers.\n",
    "Each must be employed at least one hour a week to justify their employment.\n",
    "If Prof.Symons has at least 110 papers to be graded each week, how many hours per week should he employ each person to minimize the cost?"
   ]
  },
  {
   "attachments": {},
   "cell_type": "markdown",
   "metadata": {},
   "source": [
    "Let   x = The number of hours per week John is employed.\n",
    "\n",
    "and y = The number of hours per week Mary is employed.\n",
    "  \n",
    "Minimize: C=15x+25y\n",
    " Subject to:\n",
    "        x>=1\n",
    "        y>=1\n",
    "        20x + 30y>=110\n",
    "        x>=0,y>=0"
   ]
  },
  {
   "cell_type": "code",
   "execution_count": 1,
   "metadata": {},
   "outputs": [],
   "source": [
    "# import the library pulp as p\n",
    "import pulp as p"
   ]
  },
  {
   "cell_type": "code",
   "execution_count": 11,
   "metadata": {},
   "outputs": [
    {
     "name": "stdout",
     "output_type": "stream",
     "text": [
      "Problem:\n",
      "MINIMIZE\n",
      "15*x + 25*y + 0\n",
      "SUBJECT TO\n",
      "_C1: x >= 1\n",
      "\n",
      "_C2: y >= 1\n",
      "\n",
      "_C3: 20 x + 30 y >= 110\n",
      "\n",
      "VARIABLES\n",
      "x Continuous\n",
      "y Continuous\n",
      "\n",
      "Optimal\n",
      "4.0 1.0 85.0\n"
     ]
    }
   ],
   "source": [
    "Lp_prob = p.LpProblem('Problem', p.LpMinimize) \n",
    "  \n",
    "# Create problem Variables \n",
    "x = p.LpVariable(\"x\", lowBound = 0)   # Create a variable x >= 0\n",
    "y = p.LpVariable(\"y\", lowBound = 0)   # Create a variable y >= 0\n",
    "  \n",
    "# Objective Function\n",
    "Lp_prob += 15*x+25*y  \n",
    "  \n",
    "# Constraints:\n",
    "Lp_prob += 1*x>=1\n",
    "Lp_prob +=1*y>=1\n",
    "Lp_prob +=20 * x + 30 * y>=110\n",
    "  \n",
    "# Display the problem\n",
    "print(Lp_prob)\n",
    "  \n",
    "status = Lp_prob.solve()   # Solver\n",
    "print(p.LpStatus[status])   # The solution status\n",
    "  \n",
    "# Printing the final solution\n",
    "print(p.value(x), p.value(y), p.value(Lp_prob.objective))"
   ]
  },
  {
   "attachments": {},
   "cell_type": "markdown",
   "metadata": {},
   "source": [
    "2 +++++++++++++++++++real world problem Minimization++++++++++++++++++++++++++\n",
    "\n",
    "Professor Hamer is on a low cholesterol diet. During lunch at the college cafeteria, he always chooses between two meals, Pasta or Tofu. The table below lists the amount of protein, carbohydrates, and vitamins each meal provides along with the amount of cholesterol he is trying to minimize. Mr. Hamer needs at least 200 grams of protein, 960 grams of carbohydrates, and 40 grams of vitamins for lunch each month. Over this time period, how many days should he have the Pasta meal, and how many days the Tofu meal so that he gets the adequate amount of protein, carbohydrates, and vitamins and at the same time minimizes his cholesterol intake?"
   ]
  },
  {
   "attachments": {},
   "cell_type": "markdown",
   "metadata": {},
   "source": [
    "                  PASTA\t                           TOFU\n",
    "PROTEIN\t            8g\t                            16g\n",
    "CARBOHYDRATES\t    60g\t                            40g\n",
    "VITAMIN C\t        2g\t                             2g\n",
    "CHOLESTEROL\t        60mg\t                        50mg\n",
    "\n",
    "Let  x = The number of days Mr. Hamer eats Pasta.\n",
    "     y = The number of days Mr. Hamer eats Tofu.\n",
    "  objective function represents the total amount of cholesterol  provided by both meals:\n",
    "  \n",
    "  Minimize C=60x+50y\n",
    "  \n",
    "  Subject to: \n",
    "  8x+16y≥200\n",
    "  60x+40y≥960\n",
    "  2x+2y≥40\n",
    "  x≥0;y≥0"
   ]
  },
  {
   "cell_type": "code",
   "execution_count": 12,
   "metadata": {},
   "outputs": [
    {
     "name": "stdout",
     "output_type": "stream",
     "text": [
      "Problem:\n",
      "MINIMIZE\n",
      "60*x + 50*y + 0\n",
      "SUBJECT TO\n",
      "_C1: 8 x + 16 y >= 200\n",
      "\n",
      "_C2: 60 x + 40 y >= 960\n",
      "\n",
      "_C3: 2 x + 2 y >= 40\n",
      "\n",
      "VARIABLES\n",
      "x Continuous\n",
      "y Continuous\n",
      "\n",
      "Optimal\n",
      "8.0 12.0 1080.0\n"
     ]
    }
   ],
   "source": [
    "Lp_prob = p.LpProblem('Problem', p.LpMinimize) \n",
    "  \n",
    "# Create problem Variables \n",
    "x = p.LpVariable(\"x\", lowBound = 0)   # Create a variable x >= 0\n",
    "y = p.LpVariable(\"y\", lowBound = 0)   # Create a variable y >= 0\n",
    "  \n",
    "# Objective Function\n",
    "Lp_prob += 60*x+50*y  \n",
    "  \n",
    "# Constraints:\n",
    "Lp_prob += 8*x + 16*y>=200\n",
    "Lp_prob +=60*x + 40 * y>=960\n",
    "Lp_prob +=2 * x + 2 * y>=40\n",
    "\n",
    "\n",
    "  \n",
    "# Display the problem\n",
    "print(Lp_prob)\n",
    "  \n",
    "status = Lp_prob.solve()   # Solver\n",
    "print(p.LpStatus[status])   # The solution status\n",
    "  \n",
    "# Printing the final solution\n",
    "print(p.value(x), p.value(y), p.value(Lp_prob.objective))"
   ]
  },
  {
   "attachments": {},
   "cell_type": "markdown",
   "metadata": {},
   "source": [
    "3 +++++++++++++++++++real world problem Minimization++++++++++++++++++++++++++\n",
    "\n",
    "A diet is to contain at least 2400 units of vitamins, 1800 units of minerals, and 1200 calories. Two foods, Food A and Food B are to be purchased. Each unit of Food A provides 50 units of vitamins, 30 units of minerals, and 10 calories. Each unit of Food B provides 20 units of vitamins, 20 units of minerals, and 40 calories. Food A costs $2 per unit and Food B cost $1 per unit. How many units of each food should be purchased to keep costs at a minimum?"
   ]
  },
  {
   "attachments": {},
   "cell_type": "markdown",
   "metadata": {},
   "source": [
    "Let  x = The number units Food A.\n",
    "\n",
    "and  y  = The number units Food B.\n",
    "\n",
    "                Food A\t                         Food B\n",
    "vitamins\t     50\t                              20\n",
    "minerals\t     30                               20\n",
    "calories \t     10\t                              40\n",
    "cost per unit\t 2$\t                              1$\n",
    "\n",
    "objective function represents the cost price of :\n",
    "\n",
    " Minimize C=2x+1y\n",
    " Subject to: \n",
    "  50x+20y≥2400\n",
    "  30x+20y≥1800\n",
    "  10x+40y≥1200\n",
    "  x≥0;y≥0"
   ]
  },
  {
   "cell_type": "code",
   "execution_count": 13,
   "metadata": {},
   "outputs": [
    {
     "name": "stdout",
     "output_type": "stream",
     "text": [
      "Problem:\n",
      "MINIMIZE\n",
      "2*x + 1*y + 0\n",
      "SUBJECT TO\n",
      "_C1: 50 x + 20 y >= 2400\n",
      "\n",
      "_C2: 30 x + 20 y >= 1800\n",
      "\n",
      "_C3: 10 x + 40 y >= 1200\n",
      "\n",
      "VARIABLES\n",
      "x Continuous\n",
      "y Continuous\n",
      "\n",
      "Optimal\n",
      "30.0 45.0 105.0\n"
     ]
    }
   ],
   "source": [
    "Lp_prob = p.LpProblem('Problem', p.LpMinimize) \n",
    "  \n",
    "# Create problem Variables \n",
    "x = p.LpVariable(\"x\", lowBound = 0)   # Create a variable x >= 0\n",
    "y = p.LpVariable(\"y\", lowBound = 0)   # Create a variable y >= 0\n",
    "  \n",
    "# Objective Function\n",
    "Lp_prob += 2*x+1*y  \n",
    "  \n",
    "# Constraints:\n",
    "Lp_prob += 50*x + 20*y>=2400\n",
    "Lp_prob +=30*x + 20* y>=1800\n",
    "Lp_prob +=10* x + 40* y>=1200\n",
    "\n",
    "\n",
    "  \n",
    "# Display the problem\n",
    "print(Lp_prob)\n",
    "  \n",
    "status = Lp_prob.solve()   # Solver\n",
    "print(p.LpStatus[status])   # The solution status\n",
    "  \n",
    "# Printing the final solution\n",
    "print(p.value(x), p.value(y), p.value(Lp_prob.objective))"
   ]
  },
  {
   "attachments": {},
   "cell_type": "markdown",
   "metadata": {},
   "source": [
    "5 +++++++++++++++++++real world problem Minimization++++++++++++++++++++++++++\n",
    "\n",
    "An oil company has two refineries. Each day, Refinery A produces 200 barrels of high-grade oil, 300 barrels of medium-grade oil, and 200 barrels of low-grade oil and costs $12,000 to operate. Each day, Refinery B produces 100 barrels of high-grade oil, 100 barrels of medium-grade oil, and 200 barrels of low-grade oil and costs $10,000 to operate. The company must produce at least 800 barrels of high-grade oil, 900 barrels of medium-grade oil, and 1,000 barrels of low-grade oil.\n",
    "How many days should each refinery be operated to meet the goals at a minimum cost?"
   ]
  },
  {
   "attachments": {},
   "cell_type": "markdown",
   "metadata": {},
   "source": [
    "x = number days to operate refinery A\n",
    "y = number days to operate refinery B\n",
    "\n",
    "                 refinery A\t                        refinery B\n",
    "high-grade oil      200\t                             100\n",
    "medium-grade oil\t300\t                             100\n",
    "low-grade oil\t    200\t                             200\n",
    "costs to operate    12000\t                         10000\n",
    "\n",
    "the goals at a minimum cost:\n",
    "Minimize C = 12000x + 10000y\n",
    "\n",
    "\n",
    " Subject to:\n",
    "             200x + 100y  >=800 #  barrels high grade oil\n",
    "             300x + 100y>=900   # medium grade oil\n",
    "             200x + 200 y>=1000 # low grade oil"
   ]
  },
  {
   "cell_type": "code",
   "execution_count": 14,
   "metadata": {},
   "outputs": [
    {
     "name": "stdout",
     "output_type": "stream",
     "text": [
      "Problem:\n",
      "MINIMIZE\n",
      "12000*x + 10000*y + 0\n",
      "SUBJECT TO\n",
      "_C1: 200 x + 100 y >= 800\n",
      "\n",
      "_C2: 300 x + 100 y >= 900\n",
      "\n",
      "_C3: 200 x + 200 y >= 1000\n",
      "\n",
      "VARIABLES\n",
      "x Continuous\n",
      "y Continuous\n",
      "\n",
      "Optimal\n",
      "3.0 2.0 56000.0\n"
     ]
    }
   ],
   "source": [
    "Lp_prob = p.LpProblem('Problem', p.LpMinimize) \n",
    "  \n",
    "# Create problem Variables \n",
    "x = p.LpVariable(\"x\", lowBound = 0)   # Create a variable x >= 0\n",
    "y = p.LpVariable(\"y\", lowBound = 0)   # Create a variable y >= 0\n",
    "  \n",
    "# Objective Function\n",
    "Lp_prob += 12000*x+10000*y  \n",
    "  \n",
    "# Constraints:\n",
    "Lp_prob += 200 * x + 100 * y >=800\n",
    "Lp_prob += 300 * x + 100 * y >=900\n",
    "Lp_prob += 200 * x + 200 * y >=1000\n",
    "\n",
    "\n",
    " \n",
    "# Display the problem\n",
    "print(Lp_prob)\n",
    "  \n",
    "status = Lp_prob.solve()   # Solver\n",
    "print(p.LpStatus[status])   # The solution status\n",
    "  \n",
    "# Printing the final solution\n",
    "print(p.value(x), p.value(y), p.value(Lp_prob.objective))"
   ]
  },
  {
   "cell_type": "markdown",
   "metadata": {},
   "source": []
  }
 ],
 "metadata": {
  "kernelspec": {
   "display_name": "base",
   "language": "python",
   "name": "python3"
  },
  "language_info": {
   "codemirror_mode": {
    "name": "ipython",
    "version": 3
   },
   "file_extension": ".py",
   "mimetype": "text/x-python",
   "name": "python",
   "nbconvert_exporter": "python",
   "pygments_lexer": "ipython3",
   "version": "3.7.6"
  },
  "orig_nbformat": 4
 },
 "nbformat": 4,
 "nbformat_minor": 2
}
