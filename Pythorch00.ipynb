{
  "nbformat": 4,
  "nbformat_minor": 0,
  "metadata": {
    "colab": {
      "provenance": []
    },
    "kernelspec": {
      "name": "python3",
      "display_name": "Python 3"
    },
    "language_info": {
      "name": "python"
    }
  },
  "cells": [
    {
      "cell_type": "code",
      "source": [
        "import torch"
      ],
      "metadata": {
        "id": "cQNFi8Mn89Tx"
      },
      "execution_count": 7,
      "outputs": []
    },
    {
      "cell_type": "code",
      "source": [
        "torch.__version__"
      ],
      "metadata": {
        "colab": {
          "base_uri": "https://localhost:8080/",
          "height": 36
        },
        "id": "EO4fL4v6CbOc",
        "outputId": "71b67473-55f8-4ffa-8da5-b01d30f8c584"
      },
      "execution_count": 8,
      "outputs": [
        {
          "output_type": "execute_result",
          "data": {
            "text/plain": [
              "'1.13.1+cu116'"
            ],
            "application/vnd.google.colaboratory.intrinsic+json": {
              "type": "string"
            }
          },
          "metadata": {},
          "execution_count": 8
        }
      ]
    },
    {
      "cell_type": "markdown",
      "source": [
        "# create tensors"
      ],
      "metadata": {
        "id": "RYkT7litDV0v"
      }
    },
    {
      "cell_type": "code",
      "source": [
        "scalar = torch.tensor(5)"
      ],
      "metadata": {
        "id": "Qjw_FsX5Cbcx"
      },
      "execution_count": 10,
      "outputs": []
    },
    {
      "cell_type": "code",
      "source": [
        "scalar"
      ],
      "metadata": {
        "colab": {
          "base_uri": "https://localhost:8080/"
        },
        "id": "NLqiwqsPDmR5",
        "outputId": "0a7ebecc-64d3-4ed9-8cfd-39bc12c82a59"
      },
      "execution_count": 11,
      "outputs": [
        {
          "output_type": "execute_result",
          "data": {
            "text/plain": [
              "tensor(5)"
            ]
          },
          "metadata": {},
          "execution_count": 11
        }
      ]
    },
    {
      "cell_type": "code",
      "source": [
        "scalar.ndim()"
      ],
      "metadata": {
        "colab": {
          "base_uri": "https://localhost:8080/"
        },
        "id": "rb5csK6-DmX9",
        "outputId": "65938040-5d7a-43ca-cbe2-91e0b18f062e"
      },
      "execution_count": 12,
      "outputs": [
        {
          "output_type": "execute_result",
          "data": {
            "text/plain": [
              "0"
            ]
          },
          "metadata": {},
          "execution_count": 12
        }
      ]
    },
    {
      "cell_type": "code",
      "source": [
        "scalar.item()"
      ],
      "metadata": {
        "colab": {
          "base_uri": "https://localhost:8080/"
        },
        "id": "iQnsBx-2Dmcb",
        "outputId": "a893aec5-4f67-4207-c9fd-e5f6ffb23fbf"
      },
      "execution_count": 13,
      "outputs": [
        {
          "output_type": "execute_result",
          "data": {
            "text/plain": [
              "5"
            ]
          },
          "metadata": {},
          "execution_count": 13
        }
      ]
    },
    {
      "cell_type": "code",
      "source": [
        "house = ['bed','bath','kitech']"
      ],
      "metadata": {
        "id": "piGcDVW3EdBC"
      },
      "execution_count": null,
      "outputs": []
    },
    {
      "cell_type": "code",
      "source": [
        "# vector\n",
        "vec = torch.tensor([4,5])"
      ],
      "metadata": {
        "id": "zNKcbn-hEdKg"
      },
      "execution_count": 17,
      "outputs": []
    },
    {
      "cell_type": "code",
      "source": [
        "# check dim\n",
        "vec.ndim"
      ],
      "metadata": {
        "colab": {
          "base_uri": "https://localhost:8080/"
        },
        "id": "jv2vPxK0FGjr",
        "outputId": "3909e12e-803a-4115-eb02-e70e138af72c"
      },
      "execution_count": 18,
      "outputs": [
        {
          "output_type": "execute_result",
          "data": {
            "text/plain": [
              "1"
            ]
          },
          "metadata": {},
          "execution_count": 18
        }
      ]
    },
    {
      "cell_type": "code",
      "source": [
        "# check shape\n",
        "vec.shape\n"
      ],
      "metadata": {
        "colab": {
          "base_uri": "https://localhost:8080/"
        },
        "id": "fhlgtcFsFGqJ",
        "outputId": "a1e8d8c1-4218-4b89-baac-e150f054fa86"
      },
      "execution_count": 19,
      "outputs": [
        {
          "output_type": "execute_result",
          "data": {
            "text/plain": [
              "torch.Size([2])"
            ]
          },
          "metadata": {},
          "execution_count": 19
        }
      ]
    },
    {
      "cell_type": "code",
      "source": [
        "# matrix\n",
        "Mat = torch.tensor([[1,2]\n",
        "                    ,[7,9]])"
      ],
      "metadata": {
        "id": "z6A5GFZlFGv_"
      },
      "execution_count": 20,
      "outputs": []
    },
    {
      "cell_type": "code",
      "source": [
        "Mat"
      ],
      "metadata": {
        "colab": {
          "base_uri": "https://localhost:8080/"
        },
        "id": "Miz_g_cjGYAY",
        "outputId": "c8db4e9d-d748-416e-d4a8-3e926eff37f8"
      },
      "execution_count": 21,
      "outputs": [
        {
          "output_type": "execute_result",
          "data": {
            "text/plain": [
              "tensor([[1, 2],\n",
              "        [7, 9]])"
            ]
          },
          "metadata": {},
          "execution_count": 21
        }
      ]
    },
    {
      "cell_type": "code",
      "source": [
        "# check the number of dimensions"
      ],
      "metadata": {
        "id": "Klw4RKe-GYGt"
      },
      "execution_count": 22,
      "outputs": []
    },
    {
      "cell_type": "code",
      "source": [
        "Mat.ndim"
      ],
      "metadata": {
        "colab": {
          "base_uri": "https://localhost:8080/"
        },
        "id": "GouftkFBFG9M",
        "outputId": "fc2525eb-8401-487b-d57e-3944c8e5bc36"
      },
      "execution_count": 24,
      "outputs": [
        {
          "output_type": "execute_result",
          "data": {
            "text/plain": [
              "2"
            ]
          },
          "metadata": {},
          "execution_count": 24
        }
      ]
    },
    {
      "cell_type": "code",
      "source": [
        "Mat.shape"
      ],
      "metadata": {
        "colab": {
          "base_uri": "https://localhost:8080/"
        },
        "id": "rFZqTj1JG2cj",
        "outputId": "67292936-62a3-4d7c-f025-eb3ae96cce9a"
      },
      "execution_count": 25,
      "outputs": [
        {
          "output_type": "execute_result",
          "data": {
            "text/plain": [
              "torch.Size([2, 2])"
            ]
          },
          "metadata": {},
          "execution_count": 25
        }
      ]
    },
    {
      "cell_type": "code",
      "source": [
        "# tenor\n",
        "ten = torch.tensor([[[1,2,3],\n",
        "                     [4,5,9],\n",
        "                     [4,5,9]]])"
      ],
      "metadata": {
        "id": "r10IzbPrG2iW"
      },
      "execution_count": 27,
      "outputs": []
    },
    {
      "cell_type": "code",
      "source": [
        "ten"
      ],
      "metadata": {
        "colab": {
          "base_uri": "https://localhost:8080/"
        },
        "id": "wMY0mWdMHvEe",
        "outputId": "3c9f5a63-3b45-4423-8914-af7c95e6857e"
      },
      "execution_count": 28,
      "outputs": [
        {
          "output_type": "execute_result",
          "data": {
            "text/plain": [
              "tensor([[[1, 2, 3],\n",
              "         [4, 5, 9],\n",
              "         [4, 5, 9]]])"
            ]
          },
          "metadata": {},
          "execution_count": 28
        }
      ]
    },
    {
      "cell_type": "code",
      "source": [
        "ten.ndim"
      ],
      "metadata": {
        "colab": {
          "base_uri": "https://localhost:8080/"
        },
        "id": "FZM42ht9HvMH",
        "outputId": "c297f34b-98b6-4bb0-90e1-9a0a2d1fe1a5"
      },
      "execution_count": 29,
      "outputs": [
        {
          "output_type": "execute_result",
          "data": {
            "text/plain": [
              "3"
            ]
          },
          "metadata": {},
          "execution_count": 29
        }
      ]
    },
    {
      "cell_type": "code",
      "source": [
        "ten.shape"
      ],
      "metadata": {
        "colab": {
          "base_uri": "https://localhost:8080/"
        },
        "id": "LWxmNt2dHvRg",
        "outputId": "049b23e9-5a38-45ef-98a8-05db9ea6784d"
      },
      "execution_count": 30,
      "outputs": [
        {
          "output_type": "execute_result",
          "data": {
            "text/plain": [
              "torch.Size([1, 3, 3])"
            ]
          },
          "metadata": {},
          "execution_count": 30
        }
      ]
    },
    {
      "cell_type": "code",
      "source": [
        "# random tenors"
      ],
      "metadata": {
        "id": "TdGSd2UjIjyP"
      },
      "execution_count": 31,
      "outputs": []
    },
    {
      "cell_type": "code",
      "source": [
        "random_tensor = torch.rand(size=(3,4))\n",
        "print(random_tensor)\n",
        "print(random_tensor.dtype)"
      ],
      "metadata": {
        "colab": {
          "base_uri": "https://localhost:8080/"
        },
        "id": "1Kg6Nh2fIkHF",
        "outputId": "fd8a866d-cb51-42bd-91d7-89ab1db8f33f"
      },
      "execution_count": 34,
      "outputs": [
        {
          "output_type": "stream",
          "name": "stdout",
          "text": [
            "tensor([[0.0964, 0.3888, 0.2587, 0.9230],\n",
            "        [0.7701, 0.3502, 0.5407, 0.4602],\n",
            "        [0.0179, 0.2705, 0.3794, 0.9265]])\n",
            "torch.float32\n"
          ]
        }
      ]
    },
    {
      "cell_type": "code",
      "source": [
        "random_image_tensor = torch.rand(size=(224,224,3))"
      ],
      "metadata": {
        "id": "_k-qQCeaIkZX"
      },
      "execution_count": 35,
      "outputs": []
    },
    {
      "cell_type": "code",
      "source": [
        "random_image_tensor"
      ],
      "metadata": {
        "colab": {
          "base_uri": "https://localhost:8080/"
        },
        "id": "4jBSLPByIkeP",
        "outputId": "25012a61-2a7c-42af-e22f-3718dd5b8b9c"
      },
      "execution_count": 36,
      "outputs": [
        {
          "output_type": "execute_result",
          "data": {
            "text/plain": [
              "tensor([[[8.8030e-01, 3.3937e-01, 9.6080e-01],\n",
              "         [6.7301e-03, 9.3145e-01, 4.1837e-01],\n",
              "         [3.0145e-01, 6.1627e-01, 7.2769e-02],\n",
              "         ...,\n",
              "         [2.8165e-01, 8.6830e-01, 1.6256e-01],\n",
              "         [4.5802e-02, 4.2508e-01, 3.4557e-01],\n",
              "         [5.0914e-01, 7.6703e-01, 5.0445e-01]],\n",
              "\n",
              "        [[4.1228e-01, 1.9492e-01, 2.1644e-02],\n",
              "         [3.2344e-01, 9.2078e-01, 3.2926e-01],\n",
              "         [1.7675e-01, 5.6827e-01, 6.5515e-01],\n",
              "         ...,\n",
              "         [4.9069e-01, 2.3594e-01, 9.3456e-01],\n",
              "         [5.4790e-01, 9.8169e-01, 2.4574e-02],\n",
              "         [7.8192e-01, 5.4830e-01, 4.6061e-02]],\n",
              "\n",
              "        [[4.5708e-01, 9.3848e-01, 5.0621e-01],\n",
              "         [2.2147e-01, 5.2443e-02, 3.7075e-01],\n",
              "         [2.6707e-01, 1.7150e-01, 1.4393e-01],\n",
              "         ...,\n",
              "         [8.1029e-01, 4.3724e-01, 9.2870e-01],\n",
              "         [7.0251e-01, 2.3247e-01, 6.4098e-02],\n",
              "         [9.1350e-01, 6.5994e-04, 9.9648e-01]],\n",
              "\n",
              "        ...,\n",
              "\n",
              "        [[3.9143e-01, 8.8460e-02, 3.2694e-01],\n",
              "         [5.0978e-01, 6.6066e-01, 8.1010e-01],\n",
              "         [5.1221e-01, 1.1800e-01, 4.9938e-01],\n",
              "         ...,\n",
              "         [6.4991e-01, 3.4426e-02, 5.3673e-01],\n",
              "         [7.1334e-01, 6.5993e-01, 3.9168e-01],\n",
              "         [9.1002e-01, 5.8247e-01, 9.4560e-01]],\n",
              "\n",
              "        [[1.4740e-01, 2.4781e-01, 7.1356e-01],\n",
              "         [9.8222e-01, 1.6018e-01, 2.2733e-01],\n",
              "         [7.9479e-01, 1.5705e-01, 8.6896e-01],\n",
              "         ...,\n",
              "         [6.3577e-01, 7.7385e-01, 3.9382e-02],\n",
              "         [4.6105e-01, 4.0138e-01, 3.6924e-01],\n",
              "         [2.5385e-01, 7.9995e-01, 6.0834e-01]],\n",
              "\n",
              "        [[4.5791e-01, 3.1553e-01, 8.2759e-02],\n",
              "         [9.4060e-01, 2.3629e-02, 9.1348e-01],\n",
              "         [6.6186e-03, 8.7940e-01, 2.0595e-01],\n",
              "         ...,\n",
              "         [5.8046e-01, 8.6781e-01, 5.1774e-02],\n",
              "         [6.2471e-01, 2.5990e-01, 6.8383e-02],\n",
              "         [2.5735e-01, 8.9369e-02, 2.6289e-01]]])"
            ]
          },
          "metadata": {},
          "execution_count": 36
        }
      ]
    },
    {
      "cell_type": "code",
      "source": [
        "random_image_tensor.shape,random_image_tensor.ndim"
      ],
      "metadata": {
        "colab": {
          "base_uri": "https://localhost:8080/"
        },
        "id": "pyqwpr0_IkkB",
        "outputId": "ab099fa5-40f0-4db9-8057-465e5953515d"
      },
      "execution_count": 37,
      "outputs": [
        {
          "output_type": "execute_result",
          "data": {
            "text/plain": [
              "(torch.Size([224, 224, 3]), 3)"
            ]
          },
          "metadata": {},
          "execution_count": 37
        }
      ]
    },
    {
      "cell_type": "code",
      "source": [
        "zero=torch.zeros(size=(4,3))"
      ],
      "metadata": {
        "id": "sgo7IeL7KmZT"
      },
      "execution_count": 38,
      "outputs": []
    },
    {
      "cell_type": "code",
      "source": [
        "zero,zero.ndim"
      ],
      "metadata": {
        "colab": {
          "base_uri": "https://localhost:8080/"
        },
        "id": "gj5HabTGKmhL",
        "outputId": "aaaa6b5b-b34a-4251-844a-1c0a46e6344e"
      },
      "execution_count": 40,
      "outputs": [
        {
          "output_type": "execute_result",
          "data": {
            "text/plain": [
              "(tensor([[0., 0., 0.],\n",
              "         [0., 0., 0.],\n",
              "         [0., 0., 0.],\n",
              "         [0., 0., 0.]]), 2)"
            ]
          },
          "metadata": {},
          "execution_count": 40
        }
      ]
    },
    {
      "cell_type": "code",
      "source": [
        "zero.dtype"
      ],
      "metadata": {
        "colab": {
          "base_uri": "https://localhost:8080/"
        },
        "id": "eP6EBiCAKmmU",
        "outputId": "64493e02-4dbc-4537-cde8-57a2087f250c"
      },
      "execution_count": 41,
      "outputs": [
        {
          "output_type": "execute_result",
          "data": {
            "text/plain": [
              "torch.float32"
            ]
          },
          "metadata": {},
          "execution_count": 41
        }
      ]
    },
    {
      "cell_type": "code",
      "source": [
        "one = torch.ones(size=(3,3))\n",
        "one,one.dtype,one.ndim"
      ],
      "metadata": {
        "colab": {
          "base_uri": "https://localhost:8080/"
        },
        "id": "I8AqkjY5LFNY",
        "outputId": "02a21e2e-9974-4e80-d4fe-0dc5dafcba0d"
      },
      "execution_count": 42,
      "outputs": [
        {
          "output_type": "execute_result",
          "data": {
            "text/plain": [
              "(tensor([[1., 1., 1.],\n",
              "         [1., 1., 1.],\n",
              "         [1., 1., 1.]]), torch.float32, 2)"
            ]
          },
          "metadata": {},
          "execution_count": 42
        }
      ]
    },
    {
      "cell_type": "code",
      "source": [
        "# create values from 0 to 12\n",
        "zero_to_twilv =torch.range(start=0,end=12,step=1)"
      ],
      "metadata": {
        "colab": {
          "base_uri": "https://localhost:8080/"
        },
        "id": "K2bSZBddLFUz",
        "outputId": "b988639b-a03d-4d08-b56b-61d382f869a6"
      },
      "execution_count": 45,
      "outputs": [
        {
          "output_type": "stream",
          "name": "stderr",
          "text": [
            "<ipython-input-45-010713fd8009>:2: UserWarning: torch.range is deprecated and will be removed in a future release because its behavior is inconsistent with Python's range builtin. Instead, use torch.arange, which produces values in [start, end).\n",
            "  zero_to_twilv =torch.range(start=0,end=12,step=1)\n"
          ]
        }
      ]
    },
    {
      "cell_type": "code",
      "source": [
        "zero_to_twilv\n",
        "zero_to_twilv.dtype"
      ],
      "metadata": {
        "colab": {
          "base_uri": "https://localhost:8080/"
        },
        "id": "zGj4nbAfLFiG",
        "outputId": "eeca807f-acb1-4aac-aeac-d5dcb9a59a3b"
      },
      "execution_count": 47,
      "outputs": [
        {
          "output_type": "execute_result",
          "data": {
            "text/plain": [
              "torch.float32"
            ]
          },
          "metadata": {},
          "execution_count": 47
        }
      ]
    }
  ]
}