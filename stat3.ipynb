{
 "cells": [
  {
   "cell_type": "markdown",
   "metadata": {},
   "source": [
    "#### Question 1 :What are the effects of the width of confidence interval?"
   ]
  },
  {
   "cell_type": "code",
   "execution_count": null,
   "metadata": {},
   "outputs": [],
   "source": [
    "answer : confidence interval used for decision making\n",
    "    as the confidence level increases the width confidence interval also increase\n",
    "    as the width of confidence  interval increase, we tend to get usless information\n",
    "   -- useless information ** wide ci\n",
    " --   high risk ** narrow  wide ci\n",
    "    \n",
    " it\"s inmportant to choose the appropriate confidence level depending on the specific requirement \n",
    "the analysis and available data"
   ]
  },
  {
   "cell_type": "markdown",
   "metadata": {},
   "source": [
    " #### Question 2 :Mention the relationship between standard error and margin of error?"
   ]
  },
  {
   "cell_type": "code",
   "execution_count": null,
   "metadata": {},
   "outputs": [],
   "source": [
    "as the standar error increases the margin of error also increases.\n",
    "standar_error = sample standar_error/root_number_of_simple."
   ]
  },
  {
   "cell_type": "markdown",
   "metadata": {},
   "source": [
    "#### Question 3 : What is the proportion of confidence interval that will not contain the population\n",
    "#### parameter?"
   ]
  },
  {
   "cell_type": "code",
   "execution_count": null,
   "metadata": {},
   "outputs": [],
   "source": [
    "Alpha is the portion of confidence interval that not will contain the population parameter .\n",
    "alplha = 1 - CL."
   ]
  },
  {
   "cell_type": "markdown",
   "metadata": {},
   "source": [
    "#### Question 4:What is the difference between 95% confidence level and 99% confidence level?"
   ]
  },
  {
   "cell_type": "code",
   "execution_count": null,
   "metadata": {},
   "outputs": [],
   "source": [
    "answer ===>  the confidence interval increases as me move from 95% confidence level to 99% confidence level."
   ]
  },
  {
   "cell_type": "markdown",
   "metadata": {},
   "source": [
    "#### Question 5:What do you mean by degree of freedom?"
   ]
  },
  {
   "cell_type": "code",
   "execution_count": null,
   "metadata": {},
   "outputs": [],
   "source": [
    "DF is defined as number of options we have DF used in T-distribution and not z-distribution.\n",
    "for a series,DF=n-1(where n is the number of observation in the series)"
   ]
  },
  {
   "cell_type": "markdown",
   "metadata": {},
   "source": [
    "#### Question 6 :What do you think if DF is more than 30?"
   ]
  },
  {
   "cell_type": "code",
   "execution_count": null,
   "metadata": {},
   "outputs": [],
   "source": [
    "as DF increases the t-distribution reaches closer to the normal distribution at low  DF we have fat tail\n",
    "if DF> 30 then the t-distribution is as good normal distribution is as good as normal distribition."
   ]
  },
  {
   "cell_type": "markdown",
   "metadata": {},
   "source": [
    "#### Question 7: When to use t distribution and when to use z distribution?"
   ]
  },
  {
   "cell_type": "code",
   "execution_count": null,
   "metadata": {},
   "outputs": [],
   "source": [
    "the follwing conditions must be satisfied to use z-distribution:\n",
    "    *  do we know the population standar deviation\n",
    "    ** is the sample size >30\n",
    "   *** CI = x(bar) - Z*σ  /√n  TO  x(bar) + Z*σ  /√n\n",
    "\n",
    "else we should use t-destribution :\n",
    "    CI = x(bar) - t*s /√n  TO  x(bar) + t*s  /√n"
   ]
  },
  {
   "cell_type": "markdown",
   "metadata": {},
   "source": [
    " #### Question 8 :What is H0 and H1? What is H0 and H1 for two-tail test?"
   ]
  },
  {
   "cell_type": "code",
   "execution_count": null,
   "metadata": {},
   "outputs": [],
   "source": [
    "H0 is known as null hypothesis , its normal case/default case\n",
    "for one tail test x<=mu\n",
    "for two two-tail test x=mu\n",
    "H1 is alternate hypothesis is the other case\n",
    "for one tail test x>mu\n",
    "for two tail test x<>mu\n"
   ]
  },
  {
   "cell_type": "code",
   "execution_count": null,
   "metadata": {},
   "outputs": [],
   "source": [
    "Simple Hypothesis Examples:\n",
    "    A simple hypothesis predicts the relationship between two variables;\n",
    "        the independent variable and the dependent variable.\n",
    "        This relationship is demonstrated through these examples.\n",
    "        examples:\n",
    "            **Drinking sugary drinks daily leads to being overweight\n",
    "            **Smoking cigarettes daily leads to lung cancer.\n",
    "            **Getting at least 8 hours of sleep can make people more alert.\n",
    "            "
   ]
  },
  {
   "cell_type": "code",
   "execution_count": null,
   "metadata": {},
   "outputs": [],
   "source": [
    "Complex Hypothesis Examples:\n",
    "    A complex hypothesis describes a relationship between variables.\n",
    "    However, it’s a relationship between two or more independent variables\n",
    "    and two or more dependent variables.\n",
    "    You can follow these examples to get a better understanding of a complex hypothesis.\n",
    "    examples:\n",
    "        **Adults who  drink sugary beverages on a daily basis\n",
    "        and 2) have a family history of health issues are more likely to\n",
    "        become overweight and develop diabetes or other health issues.\n",
    "        \n",
    "        ** Individuals that smoke cigarettes and  live in large cities are more likely than others to have\n",
    "         respiratory problems and an increased risk of cancer"
   ]
  },
  {
   "cell_type": "code",
   "execution_count": null,
   "metadata": {},
   "outputs": [],
   "source": [
    "Null Hypothesis Examples:\n",
    "    A null hypothesis, denoted by H0, proposes that two factors\n",
    "    or groups are unrelated and that there is no difference between\n",
    "    certain characteristics of a population or process. You must test the\n",
    "    likelihood of the null hypothesis, in tandem with an alternative hypothesis, \n",
    "    in order to disprove or\n",
    "    discredit it. Some examples of a null hypothesis include.\n",
    "    examples:\n",
    "        ** There is no significant change in a person’s health during the times when they drink\n",
    "        green tea only or root beer only.\n",
    "        ** There is no significant change in an individual’s work habits\n",
    "        whether they get eight hours or nine hours of sleep.\n",
    "        ** There is no significant change in the growth of a plant if one uses distilled water\n",
    "        only or vitamin-rich water only to water it."
   ]
  },
  {
   "cell_type": "code",
   "execution_count": null,
   "metadata": {},
   "outputs": [],
   "source": [
    "Alternative Hypothesis Examples:\n",
    "    An alternative hypothesis, denoted by H1 or HA ,\n",
    "    is a claim that is contradictory to the null hypothesis.\n",
    "    Researchers will pair the alternative hypothesis with the null hypothesis\n",
    "    in order to prove that there is no relation. If the null hypothesis is disproven, \n",
    "    then the alternative hypothesis will be accepted. If the null hypothesis is not rejected,\n",
    "    then the alternative hypothesis\n",
    "    will not be accepted.\n",
    "    Some examples of alternative hypotheses are:\n",
    "        ** A person’s health improves during the times when they drink green tea only,\n",
    "        as opposed to root beer only.\n",
    "        ** Work habits improve during the times when one gets 8 hours of sleep only,\n",
    "        as opposed to 9 hours of sleep only.\n",
    "        ** The growth of the plant improved during the times when it received vitamin-rich water only,\n",
    "        as opposed to distilled water only."
   ]
  },
  {
   "cell_type": "code",
   "execution_count": null,
   "metadata": {},
   "outputs": [],
   "source": [
    "Empirical Hypothesis Examples:\n",
    "    An empirical hypothesis, or working hypothesis, comes to life when a theory\n",
    "    is being put to the test using observation and experiment.\n",
    "    It's no longer just an idea or notion. Rather,\n",
    "    it is going through trial and error and perhaps changing around those independent variables.\n",
    "    \n",
    "    exmaple:\n",
    "        ** Roses watered with liquid Vitamin B grow faster than roses watered with liquid Vitamin E\n",
    "        ** Women taking vitamin E grow hair faster than those taking vitamin K.\n",
    "          \n"
   ]
  },
  {
   "cell_type": "code",
   "execution_count": null,
   "metadata": {},
   "outputs": [],
   "source": [
    "Statistical Hypothesis Examples:\n",
    "    A statistical hypothesis is an examination of a portion of a population\n",
    "    or statistical model. In this type of analysis, you use statistical information \n",
    "    from an area. For example, if you wanted to conduct a study on \n",
    "    the life expectancy of people from Savannah, you would want to examine\n",
    "    every single resident of Savannah. This is not practical. Therefore,\n",
    "    you would conduct your research using\n",
    "    a statistical hypothesis or a sample of Savannah's population.\n",
    "    \n",
    "    examples:\n",
    "        ** 50% of Savannah's population lives beyond the age of 70\n",
    "        ** 80% of the U.S. population gets a divorce because of irreconcilable\n",
    "        ** 45% of the poor in the U.S. are illiterate."
   ]
  }
 ],
 "metadata": {
  "kernelspec": {
   "display_name": "Python 3",
   "language": "python",
   "name": "python3"
  },
  "language_info": {
   "codemirror_mode": {
    "name": "ipython",
    "version": 3
   },
   "file_extension": ".py",
   "mimetype": "text/x-python",
   "name": "python",
   "nbconvert_exporter": "python",
   "pygments_lexer": "ipython3",
   "version": "3.7.6"
  }
 },
 "nbformat": 4,
 "nbformat_minor": 4
}
