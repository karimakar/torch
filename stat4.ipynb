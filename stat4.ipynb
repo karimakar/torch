{
 "cells": [
  {
   "cell_type": "markdown",
   "metadata": {},
   "source": [
    "#### Question1- What is p-value in hypothesis testing?"
   ]
  },
  {
   "cell_type": "code",
   "execution_count": null,
   "metadata": {},
   "outputs": [],
   "source": [
    "if p-value is more than critical value then we fail to reject the H0 \n",
    " * if p-value = 0.015 (critical -value=0.05) - strong evidence\n",
    " * if p-value = 0.055(critical value=0.05) -weak evidence\n",
    "\n",
    "if p-value is less than the critical value,then we reject the H0\n",
    "  * if p-value = 0.005 (critical -value=0.05) - strong evidence\n"
   ]
  },
  {
   "cell_type": "markdown",
   "metadata": {},
   "source": [
    "#### Question2 - How to calculate p-value using manual method?"
   ]
  },
  {
   "cell_type": "code",
   "execution_count": null,
   "metadata": {},
   "outputs": [],
   "source": [
    "*  find H0 and H1\n",
    "*  Find n,X(bar),and s\n",
    "*  Find DF to t-distribution\n",
    "*  find the type of distribution -t or z distribtion\n",
    "*  find t or z value(using the look-up table)\n",
    "*  compute the p-value to critical value"
   ]
  },
  {
   "cell_type": "markdown",
   "metadata": {},
   "source": [
    "#### Question3- How to calculate p-value using EXCEL?"
   ]
  },
  {
   "cell_type": "markdown",
   "metadata": {},
   "source": [
    "#### Question4-What do we mean by – making decision based on comparing p-value with significance level?\n"
   ]
  },
  {
   "cell_type": "code",
   "execution_count": null,
   "metadata": {},
   "outputs": [],
   "source": [
    "if p-value is more the critical value,then we fail to reject the H0\n",
    "if p-value is less than the critical value ,then we reject the H0"
   ]
  },
  {
   "cell_type": "markdown",
   "metadata": {},
   "source": [
    "#### Question5- What is the difference between one tail and two tail hypothesis testing?"
   ]
  },
  {
   "cell_type": "code",
   "execution_count": null,
   "metadata": {},
   "outputs": [],
   "source": [
    "2-tail test:Critical region is on both sides of distribution \n",
    "    * H0: X = µ\n",
    "    * H1: X<> µ    \n",
    "1 - tail test: Critical region is on one side of distribution    \n",
    "     H0: X <= µ\n",
    "      H1: X > µ                       "
   ]
  },
  {
   "cell_type": "markdown",
   "metadata": {},
   "source": [
    "#### Question6- What do you think of the tail (one tail or two tail) if H0 is equal to one value only?\n"
   ]
  },
  {
   "cell_type": "code",
   "execution_count": null,
   "metadata": {},
   "outputs": [],
   "source": [
    "is a two tail-test"
   ]
  },
  {
   "cell_type": "markdown",
   "metadata": {},
   "source": [
    "#### Question7- What is the critical value in one tail or two-tail test?"
   ]
  },
  {
   "cell_type": "code",
   "execution_count": null,
   "metadata": {},
   "outputs": [],
   "source": [
    "critical value in one tail is aplha\n",
    "crtical value in 2 tail is aplha/2"
   ]
  },
  {
   "cell_type": "code",
   "execution_count": 5,
   "metadata": {},
   "outputs": [
    {
     "data": {
      "text/plain": [
       "<matplotlib.image.AxesImage at 0x21f88a41bc8>"
      ]
     },
     "execution_count": 5,
     "metadata": {},
     "output_type": "execute_result"
    },
    {
     "data": {
      "image/png": "[encoded data removed]",
      "text/plain": [
       "<Figure size 432x288 with 1 Axes>"
      ]
     },
     "metadata": {
      "needs_background": "light"
     },
     "output_type": "display_data"
    }
   ],
   "source": [
    "import matplotlib.pyplot as plt\n",
    "im = plt.imread('normal.png')\n",
    "plt.imshow(im)\n"
   ]
  },
  {
   "cell_type": "markdown",
   "metadata": {},
   "source": [
    "#### Question8- Why is the t-value same for 90% two tail and 95% one tail test?"
   ]
  },
  {
   "cell_type": "code",
   "execution_count": null,
   "metadata": {},
   "outputs": [],
   "source": [
    "p-value of 1 tail = p-value of 2-tail/2\n",
    "it because in two tail there are 2 critical regions"
   ]
  },
  {
   "cell_type": "code",
   "execution_count": null,
   "metadata": {},
   "outputs": [],
   "source": []
  }
 ],
 "metadata": {
  "kernelspec": {
   "display_name": "Python 3",
   "language": "python",
   "name": "python3"
  },
  "language_info": {
   "codemirror_mode": {
    "name": "ipython",
    "version": 3
   },
   "file_extension": ".py",
   "mimetype": "text/x-python",
   "name": "python",
   "nbconvert_exporter": "python",
   "pygments_lexer": "ipython3",
   "version": "3.7.6"
  }
 },
 "nbformat": 4,
 "nbformat_minor": 4
}
