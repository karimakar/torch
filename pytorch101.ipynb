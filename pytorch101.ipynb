{
  "nbformat": 4,
  "nbformat_minor": 0,
  "metadata": {
    "colab": {
      "provenance": []
    },
    "kernelspec": {
      "name": "python3",
      "display_name": "Python 3"
    },
    "language_info": {
      "name": "python"
    }
  },
  "cells": [
    {
      "cell_type": "code",
      "execution_count": 1,
      "metadata": {
        "id": "0_arW1-yK8H9"
      },
      "outputs": [],
      "source": [
        "# here for importing our packages\n",
        "import torch\n",
        "import numpy as np"
      ]
    },
    {
      "cell_type": "code",
      "source": [
        "torch.cuda.is_available()"
      ],
      "metadata": {
        "colab": {
          "base_uri": "https://localhost:8080/"
        },
        "id": "avkZu6wYLShB",
        "outputId": "2def95ea-6efc-4315-8aca-38bdb0223254"
      },
      "execution_count": 2,
      "outputs": [
        {
          "output_type": "execute_result",
          "data": {
            "text/plain": [
              "False"
            ]
          },
          "metadata": {},
          "execution_count": 2
        }
      ]
    },
    {
      "cell_type": "code",
      "source": [
        "# create array\n",
        "data = [[4,5],[6,7]]\n",
        "data"
      ],
      "metadata": {
        "colab": {
          "base_uri": "https://localhost:8080/"
        },
        "id": "khvcE_-LMYXV",
        "outputId": "a9045e4b-3e16-4aed-9804-bfb3bf02a66c"
      },
      "execution_count": 44,
      "outputs": [
        {
          "output_type": "execute_result",
          "data": {
            "text/plain": [
              "[[4, 5], [6, 7]]"
            ]
          },
          "metadata": {},
          "execution_count": 44
        }
      ]
    },
    {
      "cell_type": "code",
      "source": [
        "type(data)"
      ],
      "metadata": {
        "colab": {
          "base_uri": "https://localhost:8080/"
        },
        "id": "djx4h59QNpFW",
        "outputId": "cd579816-d736-42dd-a0a4-31e38b8d2d57"
      },
      "execution_count": 45,
      "outputs": [
        {
          "output_type": "execute_result",
          "data": {
            "text/plain": [
              "list"
            ]
          },
          "metadata": {},
          "execution_count": 45
        }
      ]
    },
    {
      "cell_type": "code",
      "source": [
        "np.array(data)"
      ],
      "metadata": {
        "colab": {
          "base_uri": "https://localhost:8080/"
        },
        "id": "r6eoUVI2N4hl",
        "outputId": "a7656cbf-c7b6-46a4-b545-61dd78799308"
      },
      "execution_count": 47,
      "outputs": [
        {
          "output_type": "execute_result",
          "data": {
            "text/plain": [
              "array([[4, 5],\n",
              "       [6, 7]])"
            ]
          },
          "metadata": {},
          "execution_count": 47
        }
      ]
    },
    {
      "cell_type": "code",
      "source": [
        "np.asarray(data)"
      ],
      "metadata": {
        "colab": {
          "base_uri": "https://localhost:8080/"
        },
        "id": "QN9Gw_u5N73u",
        "outputId": "00c1c844-e385-4e2e-9cca-b9db46ae8430"
      },
      "execution_count": 6,
      "outputs": [
        {
          "output_type": "execute_result",
          "data": {
            "text/plain": [
              "array([[4, 5],\n",
              "       [6, 7]])"
            ]
          },
          "metadata": {},
          "execution_count": 6
        }
      ]
    },
    {
      "cell_type": "code",
      "source": [
        "tr=torch.tensor(data)"
      ],
      "metadata": {
        "id": "Ao1VgmRROcCF"
      },
      "execution_count": 48,
      "outputs": []
    },
    {
      "cell_type": "code",
      "source": [
        "type(tr)"
      ],
      "metadata": {
        "colab": {
          "base_uri": "https://localhost:8080/"
        },
        "id": "qjQPnfR1OpYm",
        "outputId": "c4e3554b-da2e-4807-f7d4-a2b9f790ad4f"
      },
      "execution_count": 49,
      "outputs": [
        {
          "output_type": "execute_result",
          "data": {
            "text/plain": [
              "torch.Tensor"
            ]
          },
          "metadata": {},
          "execution_count": 49
        }
      ]
    },
    {
      "cell_type": "code",
      "source": [
        "tr.dtype"
      ],
      "metadata": {
        "colab": {
          "base_uri": "https://localhost:8080/"
        },
        "id": "vsfCzzhDOqvw",
        "outputId": "07c2f57e-4ba7-4d7e-fab8-cf0f1caf8ab9"
      },
      "execution_count": 50,
      "outputs": [
        {
          "output_type": "execute_result",
          "data": {
            "text/plain": [
              "torch.int64"
            ]
          },
          "metadata": {},
          "execution_count": 50
        }
      ]
    },
    {
      "cell_type": "code",
      "source": [
        "# numpy array\n",
        "num_arr = np.random.rand(3,4)\n",
        "num_arr"
      ],
      "metadata": {
        "colab": {
          "base_uri": "https://localhost:8080/"
        },
        "id": "T6m9Fro7O3VN",
        "outputId": "7ddfc0de-4325-4003-c788-2573ce19e075"
      },
      "execution_count": 10,
      "outputs": [
        {
          "output_type": "execute_result",
          "data": {
            "text/plain": [
              "array([[0.91679023, 0.85463621, 0.20261278, 0.53919522],\n",
              "       [0.94388496, 0.49338134, 0.11484042, 0.67167014],\n",
              "       [0.61884623, 0.89378593, 0.18758151, 0.76681308]])"
            ]
          },
          "metadata": {},
          "execution_count": 10
        }
      ]
    },
    {
      "cell_type": "code",
      "source": [
        "# convert to torch\n",
        "torch.from_numpy(num_arr)"
      ],
      "metadata": {
        "colab": {
          "base_uri": "https://localhost:8080/"
        },
        "id": "GiLZDimsPgHn",
        "outputId": "93fe67b2-c8cf-429f-b781-f70f85c5b813"
      },
      "execution_count": 11,
      "outputs": [
        {
          "output_type": "execute_result",
          "data": {
            "text/plain": [
              "tensor([[0.9168, 0.8546, 0.2026, 0.5392],\n",
              "        [0.9439, 0.4934, 0.1148, 0.6717],\n",
              "        [0.6188, 0.8938, 0.1876, 0.7668]], dtype=torch.float64)"
            ]
          },
          "metadata": {},
          "execution_count": 11
        }
      ]
    },
    {
      "cell_type": "code",
      "source": [
        "torch.tensor(num_arr)"
      ],
      "metadata": {
        "colab": {
          "base_uri": "https://localhost:8080/"
        },
        "id": "vTA2YXhpQSsP",
        "outputId": "743a9349-baae-45e0-bb95-51a97196c7ca"
      },
      "execution_count": 12,
      "outputs": [
        {
          "output_type": "execute_result",
          "data": {
            "text/plain": [
              "tensor([[0.9168, 0.8546, 0.2026, 0.5392],\n",
              "        [0.9439, 0.4934, 0.1148, 0.6717],\n",
              "        [0.6188, 0.8938, 0.1876, 0.7668]], dtype=torch.float64)"
            ]
          },
          "metadata": {},
          "execution_count": 12
        }
      ]
    },
    {
      "cell_type": "code",
      "source": [
        "torch.ones(4,5)"
      ],
      "metadata": {
        "colab": {
          "base_uri": "https://localhost:8080/"
        },
        "id": "xtIsHLrlQuE1",
        "outputId": "9d23687b-29ae-47f2-e407-3886f21d3b11"
      },
      "execution_count": 13,
      "outputs": [
        {
          "output_type": "execute_result",
          "data": {
            "text/plain": [
              "tensor([[1., 1., 1., 1., 1.],\n",
              "        [1., 1., 1., 1., 1.],\n",
              "        [1., 1., 1., 1., 1.],\n",
              "        [1., 1., 1., 1., 1.]])"
            ]
          },
          "metadata": {},
          "execution_count": 13
        }
      ]
    },
    {
      "cell_type": "code",
      "source": [
        "torch.zeros(4,2)"
      ],
      "metadata": {
        "colab": {
          "base_uri": "https://localhost:8080/"
        },
        "id": "CRTFAXqZQybn",
        "outputId": "e68ae033-f376-44df-f597-7495696259db"
      },
      "execution_count": 14,
      "outputs": [
        {
          "output_type": "execute_result",
          "data": {
            "text/plain": [
              "tensor([[0., 0.],\n",
              "        [0., 0.],\n",
              "        [0., 0.],\n",
              "        [0., 0.]])"
            ]
          },
          "metadata": {},
          "execution_count": 14
        }
      ]
    },
    {
      "cell_type": "code",
      "source": [
        "# genrate random\n",
        "first_ten=torch.rand(4,5)"
      ],
      "metadata": {
        "id": "v6P513s0Q-oN"
      },
      "execution_count": 15,
      "outputs": []
    },
    {
      "cell_type": "code",
      "source": [
        "first_ten.dtype"
      ],
      "metadata": {
        "colab": {
          "base_uri": "https://localhost:8080/"
        },
        "id": "bKoLJoLkRXJb",
        "outputId": "f51d7fed-6dd2-43cd-e27a-8a5838ed9f0b"
      },
      "execution_count": 16,
      "outputs": [
        {
          "output_type": "execute_result",
          "data": {
            "text/plain": [
              "torch.float32"
            ]
          },
          "metadata": {},
          "execution_count": 16
        }
      ]
    },
    {
      "cell_type": "code",
      "source": [
        "first_ten.device"
      ],
      "metadata": {
        "colab": {
          "base_uri": "https://localhost:8080/"
        },
        "id": "WQ1B-3ewRonh",
        "outputId": "88d3c311-f901-4067-f771-cbfea97e1dc4"
      },
      "execution_count": 17,
      "outputs": [
        {
          "output_type": "execute_result",
          "data": {
            "text/plain": [
              "device(type='cpu')"
            ]
          },
          "metadata": {},
          "execution_count": 17
        }
      ]
    },
    {
      "cell_type": "code",
      "source": [
        "first_ten"
      ],
      "metadata": {
        "colab": {
          "base_uri": "https://localhost:8080/"
        },
        "id": "9hczmcScSzPs",
        "outputId": "551a5970-8228-461d-a918-4f56e41ecbac"
      },
      "execution_count": 18,
      "outputs": [
        {
          "output_type": "execute_result",
          "data": {
            "text/plain": [
              "tensor([[0.8521, 0.1487, 0.3250, 0.2491, 0.3121],\n",
              "        [0.4461, 0.3481, 0.9816, 0.3503, 0.5237],\n",
              "        [0.0864, 0.6395, 0.1116, 0.9721, 0.7437],\n",
              "        [0.0306, 0.2760, 0.3799, 0.1468, 0.3317]])"
            ]
          },
          "metadata": {},
          "execution_count": 18
        }
      ]
    },
    {
      "cell_type": "code",
      "source": [
        "first_ten[:,1:3]"
      ],
      "metadata": {
        "colab": {
          "base_uri": "https://localhost:8080/"
        },
        "id": "Rc9b4RNiRwKa",
        "outputId": "ff45ccdb-9c51-4fac-9dde-10c2c003f1d8"
      },
      "execution_count": 19,
      "outputs": [
        {
          "output_type": "execute_result",
          "data": {
            "text/plain": [
              "tensor([[0.1487, 0.3250],\n",
              "        [0.3481, 0.9816],\n",
              "        [0.6395, 0.1116],\n",
              "        [0.2760, 0.3799]])"
            ]
          },
          "metadata": {},
          "execution_count": 19
        }
      ]
    },
    {
      "cell_type": "code",
      "source": [
        "# multiplication\n",
        "first_ten.mul(first_ten)"
      ],
      "metadata": {
        "colab": {
          "base_uri": "https://localhost:8080/"
        },
        "id": "3tSde3S-Zn95",
        "outputId": "2fe9ef1e-74a6-4614-9e4a-e29538631b42"
      },
      "execution_count": 20,
      "outputs": [
        {
          "output_type": "execute_result",
          "data": {
            "text/plain": [
              "tensor([[7.2603e-01, 2.2112e-02, 1.0560e-01, 6.2030e-02, 9.7414e-02],\n",
              "        [1.9902e-01, 1.2120e-01, 9.6347e-01, 1.2268e-01, 2.7431e-01],\n",
              "        [7.4578e-03, 4.0893e-01, 1.2459e-02, 9.4489e-01, 5.5304e-01],\n",
              "        [9.3411e-04, 7.6187e-02, 1.4430e-01, 2.1556e-02, 1.1004e-01]])"
            ]
          },
          "metadata": {},
          "execution_count": 20
        }
      ]
    },
    {
      "cell_type": "code",
      "source": [
        "first_ten * first_ten"
      ],
      "metadata": {
        "colab": {
          "base_uri": "https://localhost:8080/"
        },
        "id": "0xFHFrPDaM9a",
        "outputId": "d8e5f9fc-6f3a-482a-9f19-521b5a3d99f8"
      },
      "execution_count": 21,
      "outputs": [
        {
          "output_type": "execute_result",
          "data": {
            "text/plain": [
              "tensor([[7.2603e-01, 2.2112e-02, 1.0560e-01, 6.2030e-02, 9.7414e-02],\n",
              "        [1.9902e-01, 1.2120e-01, 9.6347e-01, 1.2268e-01, 2.7431e-01],\n",
              "        [7.4578e-03, 4.0893e-01, 1.2459e-02, 9.4489e-01, 5.5304e-01],\n",
              "        [9.3411e-04, 7.6187e-02, 1.4430e-01, 2.1556e-02, 1.1004e-01]])"
            ]
          },
          "metadata": {},
          "execution_count": 21
        }
      ]
    },
    {
      "cell_type": "code",
      "source": [
        "first_ten.matmul(first_ten.T)"
      ],
      "metadata": {
        "colab": {
          "base_uri": "https://localhost:8080/"
        },
        "id": "1RH_rc64atPP",
        "outputId": "2448ec23-f13d-443c-836f-ef6138d95b40"
      },
      "execution_count": 22,
      "outputs": [
        {
          "output_type": "execute_result",
          "data": {
            "text/plain": [
              "tensor([[1.0132, 1.0016, 0.6792, 0.3306],\n",
              "        [1.0016, 1.6807, 1.1007, 0.7078],\n",
              "        [0.6792, 1.1007, 1.9268, 0.6110],\n",
              "        [0.3306, 0.7078, 0.6110, 0.3530]])"
            ]
          },
          "metadata": {},
          "execution_count": 22
        }
      ]
    },
    {
      "cell_type": "code",
      "source": [
        "torch.matmul(first_ten,first_ten.T)"
      ],
      "metadata": {
        "colab": {
          "base_uri": "https://localhost:8080/"
        },
        "id": "3tMzjG90bGK2",
        "outputId": "48315e2c-a555-4ea3-e1ce-a9ad2b816792"
      },
      "execution_count": 23,
      "outputs": [
        {
          "output_type": "execute_result",
          "data": {
            "text/plain": [
              "tensor([[1.0132, 1.0016, 0.6792, 0.3306],\n",
              "        [1.0016, 1.6807, 1.1007, 0.7078],\n",
              "        [0.6792, 1.1007, 1.9268, 0.6110],\n",
              "        [0.3306, 0.7078, 0.6110, 0.3530]])"
            ]
          },
          "metadata": {},
          "execution_count": 23
        }
      ]
    },
    {
      "cell_type": "code",
      "source": [
        "first_ten @ first_ten.T"
      ],
      "metadata": {
        "colab": {
          "base_uri": "https://localhost:8080/"
        },
        "id": "eOoOZxYMbnd2",
        "outputId": "77dc842c-297a-479f-fb37-0d7557512033"
      },
      "execution_count": 24,
      "outputs": [
        {
          "output_type": "execute_result",
          "data": {
            "text/plain": [
              "tensor([[1.0132, 1.0016, 0.6792, 0.3306],\n",
              "        [1.0016, 1.6807, 1.1007, 0.7078],\n",
              "        [0.6792, 1.1007, 1.9268, 0.6110],\n",
              "        [0.3306, 0.7078, 0.6110, 0.3530]])"
            ]
          },
          "metadata": {},
          "execution_count": 24
        }
      ]
    },
    {
      "cell_type": "code",
      "source": [
        "# sum of all elements\n",
        "first_ten.sum(axis=1)"
      ],
      "metadata": {
        "colab": {
          "base_uri": "https://localhost:8080/"
        },
        "id": "H8gGl3EIb088",
        "outputId": "fdb30b8b-b9be-4c63-a82f-15513d345402"
      },
      "execution_count": 26,
      "outputs": [
        {
          "output_type": "execute_result",
          "data": {
            "text/plain": [
              "tensor([1.8869, 2.6498, 2.5532, 1.1650])"
            ]
          },
          "metadata": {},
          "execution_count": 26
        }
      ]
    },
    {
      "cell_type": "code",
      "source": [
        "first_ten.sum()"
      ],
      "metadata": {
        "colab": {
          "base_uri": "https://localhost:8080/"
        },
        "id": "32xXmOdicGhQ",
        "outputId": "89f500b1-f76e-4380-a8a4-3a7077e5a106"
      },
      "execution_count": 27,
      "outputs": [
        {
          "output_type": "execute_result",
          "data": {
            "text/plain": [
              "tensor(8.2549)"
            ]
          },
          "metadata": {},
          "execution_count": 27
        }
      ]
    },
    {
      "cell_type": "code",
      "source": [
        "# concatination can use axis and dim\n",
        "torch.concat([first_ten,first_ten])"
      ],
      "metadata": {
        "colab": {
          "base_uri": "https://localhost:8080/"
        },
        "id": "y0pnTeR2cGtc",
        "outputId": "ac1983cd-a07e-425f-cde7-37c1b975b23d"
      },
      "execution_count": 51,
      "outputs": [
        {
          "output_type": "execute_result",
          "data": {
            "text/plain": [
              "tensor([[0.8521, 0.1487, 0.3250, 0.2491, 0.3121],\n",
              "        [0.4461, 0.3481, 0.9816, 0.3503, 0.5237],\n",
              "        [0.0864, 0.6395, 0.1116, 0.9721, 0.7437],\n",
              "        [0.0306, 0.2760, 0.3799, 0.1468, 0.3317],\n",
              "        [0.8521, 0.1487, 0.3250, 0.2491, 0.3121],\n",
              "        [0.4461, 0.3481, 0.9816, 0.3503, 0.5237],\n",
              "        [0.0864, 0.6395, 0.1116, 0.9721, 0.7437],\n",
              "        [0.0306, 0.2760, 0.3799, 0.1468, 0.3317]])"
            ]
          },
          "metadata": {},
          "execution_count": 51
        }
      ]
    },
    {
      "cell_type": "code",
      "source": [
        "torch.nn.functional.softmax(first_ten,dim=0)"
      ],
      "metadata": {
        "colab": {
          "base_uri": "https://localhost:8080/"
        },
        "id": "vyz6E__ncyhZ",
        "outputId": "d7cb4730-c24a-412b-c284-c070ef2e4e81"
      },
      "execution_count": 36,
      "outputs": [
        {
          "output_type": "execute_result",
          "data": {
            "text/plain": [
              "tensor([[0.3889, 0.2004, 0.2087, 0.1972, 0.2085],\n",
              "        [0.2592, 0.2446, 0.4023, 0.2182, 0.2577],\n",
              "        [0.1809, 0.3274, 0.1686, 0.4064, 0.3211],\n",
              "        [0.1710, 0.2276, 0.2204, 0.1781, 0.2127]])"
            ]
          },
          "metadata": {},
          "execution_count": 36
        }
      ]
    },
    {
      "cell_type": "code",
      "source": [
        "torch.nn.functional.softmax(first_ten,dim=1)"
      ],
      "metadata": {
        "colab": {
          "base_uri": "https://localhost:8080/"
        },
        "id": "WIcJo7p_d3xp",
        "outputId": "a36c25d4-371d-4a5c-894b-6bcf4d1f254b"
      },
      "execution_count": 37,
      "outputs": [
        {
          "output_type": "execute_result",
          "data": {
            "text/plain": [
              "tensor([[0.3110, 0.1539, 0.1836, 0.1702, 0.1813],\n",
              "        [0.1784, 0.1618, 0.3048, 0.1621, 0.1928],\n",
              "        [0.1232, 0.2142, 0.1263, 0.2987, 0.2377],\n",
              "        [0.1620, 0.2071, 0.2298, 0.1820, 0.2190]])"
            ]
          },
          "metadata": {},
          "execution_count": 37
        }
      ]
    },
    {
      "cell_type": "code",
      "source": [
        "# we can check the size or the shap\n",
        "print(first_ten.size())\n",
        "print(first_ten.shape)"
      ],
      "metadata": {
        "colab": {
          "base_uri": "https://localhost:8080/"
        },
        "id": "eQgyPGrdhQ0J",
        "outputId": "f2347535-0f30-49da-9ed1-a2b70da614a7"
      },
      "execution_count": 52,
      "outputs": [
        {
          "output_type": "stream",
          "name": "stdout",
          "text": [
            "torch.Size([4, 5])\n",
            "torch.Size([4, 5])\n"
          ]
        }
      ]
    },
    {
      "cell_type": "code",
      "source": [
        "# example of image\n",
        "torch.rand(10,3,128,128)"
      ],
      "metadata": {
        "colab": {
          "base_uri": "https://localhost:8080/"
        },
        "id": "vBkBecIWhaAx",
        "outputId": "41ab9025-bdbb-451a-d2d4-e8a008dc1781"
      },
      "execution_count": 42,
      "outputs": [
        {
          "output_type": "execute_result",
          "data": {
            "text/plain": [
              "tensor([[[[0.6359, 0.3093, 0.8903,  ..., 0.3182, 0.6165, 0.9785],\n",
              "          [0.7853, 0.8003, 0.5992,  ..., 0.3818, 0.2710, 0.4374],\n",
              "          [0.3626, 0.2768, 0.8083,  ..., 0.2061, 0.5902, 0.5735],\n",
              "          ...,\n",
              "          [0.4535, 0.2132, 0.0679,  ..., 0.0188, 0.7023, 0.7373],\n",
              "          [0.3475, 0.7915, 0.0981,  ..., 0.1249, 0.2483, 0.4405],\n",
              "          [0.0789, 0.9570, 0.8585,  ..., 0.6310, 0.8748, 0.2042]],\n",
              "\n",
              "         [[0.3890, 0.8960, 0.5225,  ..., 0.1455, 0.6686, 0.1122],\n",
              "          [0.1508, 0.2708, 0.3272,  ..., 0.4602, 0.8775, 0.7937],\n",
              "          [0.9829, 0.2501, 0.5699,  ..., 0.0338, 0.8746, 0.8851],\n",
              "          ...,\n",
              "          [0.9909, 0.3006, 0.0099,  ..., 0.4103, 0.9067, 0.7688],\n",
              "          [0.9097, 0.0239, 0.2515,  ..., 0.1101, 0.9621, 0.2428],\n",
              "          [0.7309, 0.1638, 0.3657,  ..., 0.5043, 0.5136, 0.2287]],\n",
              "\n",
              "         [[0.3180, 0.5994, 0.3802,  ..., 0.6880, 0.8840, 0.7776],\n",
              "          [0.0747, 0.1027, 0.1788,  ..., 0.5111, 0.0185, 0.1295],\n",
              "          [0.0686, 0.4436, 0.2212,  ..., 0.9244, 0.9136, 0.5784],\n",
              "          ...,\n",
              "          [0.4811, 0.5771, 0.5749,  ..., 0.6750, 0.6100, 0.5928],\n",
              "          [0.2489, 0.1952, 0.4914,  ..., 0.6519, 0.6515, 0.4013],\n",
              "          [0.8420, 0.1119, 0.9617,  ..., 0.7540, 0.7013, 0.0919]]],\n",
              "\n",
              "\n",
              "        [[[0.1615, 0.7337, 0.6691,  ..., 0.6562, 0.7026, 0.9726],\n",
              "          [0.7025, 0.8059, 0.3562,  ..., 0.3827, 0.9839, 0.7002],\n",
              "          [0.7110, 0.3002, 0.0660,  ..., 0.3657, 0.6343, 0.2388],\n",
              "          ...,\n",
              "          [0.2341, 0.3989, 0.4343,  ..., 0.7854, 0.8181, 0.5550],\n",
              "          [0.6733, 0.7816, 0.8422,  ..., 0.9069, 0.8046, 0.7359],\n",
              "          [0.9535, 0.3593, 0.2967,  ..., 0.5412, 0.9589, 0.7084]],\n",
              "\n",
              "         [[0.7292, 0.3893, 0.1469,  ..., 0.2742, 0.2004, 0.9327],\n",
              "          [0.2108, 0.9056, 0.3216,  ..., 0.3918, 0.1834, 0.7774],\n",
              "          [0.8300, 0.3642, 0.6098,  ..., 0.5299, 0.9492, 0.8482],\n",
              "          ...,\n",
              "          [0.4006, 0.2268, 0.5447,  ..., 0.5711, 0.6284, 0.5224],\n",
              "          [0.3501, 0.4187, 0.3104,  ..., 0.8699, 0.3701, 0.8345],\n",
              "          [0.7959, 0.1931, 0.7956,  ..., 0.1721, 0.3957, 0.2397]],\n",
              "\n",
              "         [[0.1999, 0.3714, 0.0254,  ..., 0.8048, 0.3675, 0.4677],\n",
              "          [0.1461, 0.1369, 0.9715,  ..., 0.7354, 0.1096, 0.3846],\n",
              "          [0.3128, 0.1775, 0.7655,  ..., 0.7590, 0.5637, 0.1039],\n",
              "          ...,\n",
              "          [0.9219, 0.6916, 0.2348,  ..., 0.1139, 0.0980, 0.0033],\n",
              "          [0.2589, 0.3476, 0.2126,  ..., 0.5397, 0.6782, 0.4896],\n",
              "          [0.4290, 0.9777, 0.8813,  ..., 0.1921, 0.5690, 0.6758]]],\n",
              "\n",
              "\n",
              "        [[[0.2133, 0.3949, 0.7101,  ..., 0.9519, 0.9181, 0.6942],\n",
              "          [0.5011, 0.0808, 0.9855,  ..., 0.8723, 0.0278, 0.5857],\n",
              "          [0.7286, 0.9703, 0.2443,  ..., 0.8416, 0.5086, 0.7069],\n",
              "          ...,\n",
              "          [0.2100, 0.4221, 0.1851,  ..., 0.1895, 0.2680, 0.9425],\n",
              "          [0.2522, 0.6390, 0.9766,  ..., 0.0081, 0.7832, 0.4793],\n",
              "          [0.6281, 0.4256, 0.3100,  ..., 0.1525, 0.2868, 0.2557]],\n",
              "\n",
              "         [[0.0396, 0.2860, 0.3298,  ..., 0.2518, 0.4254, 0.2125],\n",
              "          [0.6512, 0.0018, 0.5053,  ..., 0.5146, 0.7376, 0.1278],\n",
              "          [0.9070, 0.8654, 0.9490,  ..., 0.7875, 0.9042, 0.5858],\n",
              "          ...,\n",
              "          [0.1228, 0.0826, 0.4820,  ..., 0.6336, 0.7148, 0.4114],\n",
              "          [0.9709, 0.9171, 0.5305,  ..., 0.7720, 0.1150, 0.8448],\n",
              "          [0.8303, 0.1074, 0.6802,  ..., 0.0748, 0.0953, 0.7178]],\n",
              "\n",
              "         [[0.7446, 0.2941, 0.3300,  ..., 0.6619, 0.5289, 0.6390],\n",
              "          [0.6704, 0.9106, 0.1664,  ..., 0.5715, 0.7073, 0.9971],\n",
              "          [0.3229, 0.0657, 0.2565,  ..., 0.8810, 0.3085, 0.4336],\n",
              "          ...,\n",
              "          [0.2009, 0.7848, 0.2105,  ..., 0.5984, 0.2162, 0.2495],\n",
              "          [0.5098, 0.7322, 0.7074,  ..., 0.8500, 0.4023, 0.0037],\n",
              "          [0.2154, 0.3280, 0.9653,  ..., 0.3293, 0.7260, 0.3181]]],\n",
              "\n",
              "\n",
              "        ...,\n",
              "\n",
              "\n",
              "        [[[0.8178, 0.6906, 0.1288,  ..., 0.6531, 0.5651, 0.9644],\n",
              "          [0.8949, 0.3096, 0.2003,  ..., 0.4362, 0.0369, 0.3396],\n",
              "          [0.6565, 0.2908, 0.9354,  ..., 0.9633, 0.0141, 0.8270],\n",
              "          ...,\n",
              "          [0.5517, 0.0866, 0.2142,  ..., 0.7299, 0.4554, 0.2942],\n",
              "          [0.8237, 0.3244, 0.2047,  ..., 0.1488, 0.1451, 0.0229],\n",
              "          [0.6957, 0.8186, 0.1339,  ..., 0.2262, 0.8967, 0.6971]],\n",
              "\n",
              "         [[0.6190, 0.3784, 0.0745,  ..., 0.0703, 0.2857, 0.3435],\n",
              "          [0.3028, 0.0116, 0.1222,  ..., 0.5098, 0.7107, 0.6287],\n",
              "          [0.3052, 0.5064, 0.3194,  ..., 0.8481, 0.6613, 0.9136],\n",
              "          ...,\n",
              "          [0.7375, 0.7850, 0.8515,  ..., 0.4704, 0.7524, 0.9917],\n",
              "          [0.4272, 0.4120, 0.8991,  ..., 0.6900, 0.3643, 0.9533],\n",
              "          [0.2575, 0.6936, 0.5808,  ..., 0.0875, 0.6304, 0.5743]],\n",
              "\n",
              "         [[0.9102, 0.0055, 0.1490,  ..., 0.4136, 0.2568, 0.5006],\n",
              "          [0.6303, 0.2028, 0.0189,  ..., 0.5391, 0.4237, 0.6866],\n",
              "          [0.6216, 0.0296, 0.3863,  ..., 0.0127, 0.2189, 0.4166],\n",
              "          ...,\n",
              "          [0.2733, 0.9932, 0.8589,  ..., 0.7996, 0.3764, 0.3503],\n",
              "          [0.6527, 0.9027, 0.3968,  ..., 0.9206, 0.4110, 0.2686],\n",
              "          [0.2621, 0.0619, 0.9029,  ..., 0.5957, 0.3257, 0.0617]]],\n",
              "\n",
              "\n",
              "        [[[0.3732, 0.2805, 0.0848,  ..., 0.5420, 0.9607, 0.6088],\n",
              "          [0.0940, 0.3575, 0.1433,  ..., 0.6565, 0.8835, 0.9995],\n",
              "          [0.1731, 0.2241, 0.7283,  ..., 0.9421, 0.2604, 0.8990],\n",
              "          ...,\n",
              "          [0.9286, 0.2707, 0.3768,  ..., 0.9065, 0.7722, 0.1316],\n",
              "          [0.4217, 0.5335, 0.8148,  ..., 0.5593, 0.4298, 0.3241],\n",
              "          [0.2310, 0.5237, 0.3965,  ..., 0.1028, 0.2231, 0.0859]],\n",
              "\n",
              "         [[0.6893, 0.4165, 0.6415,  ..., 0.2367, 0.3552, 0.3261],\n",
              "          [0.6611, 0.6135, 0.3886,  ..., 0.3973, 0.9944, 0.5568],\n",
              "          [0.2076, 0.6437, 0.5965,  ..., 0.2674, 0.4363, 0.1525],\n",
              "          ...,\n",
              "          [0.8324, 0.5192, 0.8076,  ..., 0.2721, 0.1132, 0.5727],\n",
              "          [0.3890, 0.0265, 0.5053,  ..., 0.3386, 0.7354, 0.9053],\n",
              "          [0.9863, 0.3693, 0.9820,  ..., 0.6607, 0.6742, 0.4796]],\n",
              "\n",
              "         [[0.6598, 0.9873, 0.3802,  ..., 0.0165, 0.1578, 0.2976],\n",
              "          [0.5823, 0.8145, 0.7931,  ..., 0.7987, 0.0538, 0.7878],\n",
              "          [0.2027, 0.9224, 0.0026,  ..., 0.1344, 0.0848, 0.8033],\n",
              "          ...,\n",
              "          [0.5716, 0.2821, 0.8879,  ..., 0.5067, 0.3809, 0.0300],\n",
              "          [0.8560, 0.2557, 0.2822,  ..., 0.7693, 0.9917, 0.3990],\n",
              "          [0.1793, 0.1676, 0.9085,  ..., 0.8956, 0.7640, 0.6983]]],\n",
              "\n",
              "\n",
              "        [[[0.7613, 0.4824, 0.1478,  ..., 0.6982, 0.7186, 0.1280],\n",
              "          [0.1579, 0.1822, 0.6057,  ..., 0.7376, 0.2227, 0.7944],\n",
              "          [0.6524, 0.3280, 0.3693,  ..., 0.8978, 0.7093, 0.0584],\n",
              "          ...,\n",
              "          [0.7955, 0.2596, 0.4554,  ..., 0.2218, 0.5837, 0.4787],\n",
              "          [0.2710, 0.0536, 0.1936,  ..., 0.0170, 0.3407, 0.9990],\n",
              "          [0.6441, 0.7580, 0.0212,  ..., 0.1655, 0.6546, 0.1670]],\n",
              "\n",
              "         [[0.7863, 0.7695, 0.4004,  ..., 0.8281, 0.8699, 0.9435],\n",
              "          [0.5330, 0.4112, 0.5337,  ..., 0.8557, 0.2740, 0.1921],\n",
              "          [0.0116, 0.8808, 0.1846,  ..., 0.9752, 0.8445, 0.6668],\n",
              "          ...,\n",
              "          [0.5703, 0.3273, 0.6488,  ..., 0.0381, 0.6514, 0.6211],\n",
              "          [0.5496, 0.5411, 0.2602,  ..., 0.2059, 0.4339, 0.5590],\n",
              "          [0.9784, 0.4295, 0.2883,  ..., 0.6567, 0.2085, 0.8952]],\n",
              "\n",
              "         [[0.9080, 0.5540, 0.0409,  ..., 0.5344, 0.2547, 0.9765],\n",
              "          [0.9905, 0.1710, 0.5404,  ..., 0.9232, 0.9015, 0.2530],\n",
              "          [0.0094, 0.4087, 0.4467,  ..., 0.1783, 0.0318, 0.0043],\n",
              "          ...,\n",
              "          [0.4115, 0.1936, 0.3888,  ..., 0.2794, 0.0821, 0.4588],\n",
              "          [0.5488, 0.9457, 0.9111,  ..., 0.7682, 0.9773, 0.1406],\n",
              "          [0.6206, 0.8602, 0.3986,  ..., 0.3948, 0.6286, 0.8388]]]])"
            ]
          },
          "metadata": {},
          "execution_count": 42
        }
      ]
    },
    {
      "cell_type": "code",
      "source": [
        "# clip every thing\n",
        "\n",
        "first_ten.clip(0.2,0.8)"
      ],
      "metadata": {
        "colab": {
          "base_uri": "https://localhost:8080/"
        },
        "id": "YnQ-Auyaia8g",
        "outputId": "69d623a0-c56a-44a5-a630-b348663854aa"
      },
      "execution_count": 43,
      "outputs": [
        {
          "output_type": "execute_result",
          "data": {
            "text/plain": [
              "tensor([[0.8000, 0.2000, 0.3250, 0.2491, 0.3121],\n",
              "        [0.4461, 0.3481, 0.8000, 0.3503, 0.5237],\n",
              "        [0.2000, 0.6395, 0.2000, 0.8000, 0.7437],\n",
              "        [0.2000, 0.2760, 0.3799, 0.2000, 0.3317]])"
            ]
          },
          "metadata": {},
          "execution_count": 43
        }
      ]
    }
  ]
}