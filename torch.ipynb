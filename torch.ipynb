{
 "cells": [
  {
   "cell_type": "code",
   "execution_count": 30,
   "metadata": {},
   "outputs": [],
   "source": [
    "import torch"
   ]
  },
  {
   "cell_type": "code",
   "execution_count": 32,
   "metadata": {},
   "outputs": [
    {
     "data": {
      "text/plain": [
       "tensor([  0,  10,  20,  30,  40,  50,  60,  70,  80,  90, 100, 110, 120, 130,\n",
       "        140, 150, 160, 170, 180, 190, 200, 210, 220, 230, 240, 250, 260, 270,\n",
       "        280, 290, 300, 310, 320, 330, 340, 350, 360, 370, 380, 390])"
      ]
     },
     "execution_count": 32,
     "metadata": {},
     "output_type": "execute_result"
    }
   ],
   "source": [
    "# create tensor\n",
    "x = torch.arange(0,400,10)\n",
    "x"
   ]
  },
  {
   "cell_type": "code",
   "execution_count": 33,
   "metadata": {},
   "outputs": [
    {
     "data": {
      "text/plain": [
       "1"
      ]
     },
     "execution_count": 33,
     "metadata": {},
     "output_type": "execute_result"
    }
   ],
   "source": [
    "x.ndim"
   ]
  },
  {
   "cell_type": "code",
   "execution_count": 34,
   "metadata": {},
   "outputs": [
    {
     "name": "stdout",
     "output_type": "stream",
     "text": [
      "Minuimn:0\n",
      "Maximum:390\n"
     ]
    }
   ],
   "source": [
    "# let's perform some aggreation\n",
    "print(f'Minuimn:{x.min()}')\n",
    "print(f'Maximum:{x.max()}')"
   ]
  },
  {
   "cell_type": "code",
   "execution_count": 36,
   "metadata": {},
   "outputs": [
    {
     "name": "stdout",
     "output_type": "stream",
     "text": [
      "Mean:195.0\n"
     ]
    }
   ],
   "source": [
    "print(f'Mean:{x.type(torch.float32).mean()}')"
   ]
  },
  {
   "cell_type": "code",
   "execution_count": 37,
   "metadata": {},
   "outputs": [
    {
     "name": "stdout",
     "output_type": "stream",
     "text": [
      "Sum:7800\n"
     ]
    }
   ],
   "source": [
    "print(f'Sum:{x.sum()}')"
   ]
  },
  {
   "cell_type": "markdown",
   "metadata": {},
   "source": [
    "# positional min/max"
   ]
  },
  {
   "cell_type": "code",
   "execution_count": 38,
   "metadata": {},
   "outputs": [
    {
     "data": {
      "text/plain": [
       "tensor([ 20,  30,  40,  50,  60,  70,  80,  90, 100, 110, 120, 130, 140])"
      ]
     },
     "execution_count": 38,
     "metadata": {},
     "output_type": "execute_result"
    }
   ],
   "source": [
    "# create tensor\n",
    "tensor = torch.arange(20,150,10)\n",
    "tensor"
   ]
  },
  {
   "cell_type": "code",
   "execution_count": 39,
   "metadata": {},
   "outputs": [
    {
     "name": "stdout",
     "output_type": "stream",
     "text": [
      "index of max value :12\n",
      "index of min value:0\n"
     ]
    }
   ],
   "source": [
    "# reutrn of the index of min and max\n",
    "print(f'index of max value :{tensor.argmax()}')\n",
    "print(f'index of min value:{tensor.argmin()}')"
   ]
  },
  {
   "cell_type": "code",
   "execution_count": 40,
   "metadata": {},
   "outputs": [
    {
     "data": {
      "text/plain": [
       "torch.float32"
      ]
     },
     "execution_count": 40,
     "metadata": {},
     "output_type": "execute_result"
    }
   ],
   "source": [
    "# create tensor of float32\n",
    "tensor = torch.arange(10.,100.,10.)\n",
    "tensor.dtype"
   ]
  },
  {
   "cell_type": "code",
   "execution_count": 43,
   "metadata": {},
   "outputs": [
    {
     "data": {
      "text/plain": [
       "tensor([10., 20., 30., 40., 50., 60., 70., 80., 90.], dtype=torch.float16)"
      ]
     },
     "execution_count": 43,
     "metadata": {},
     "output_type": "execute_result"
    }
   ],
   "source": [
    "tensor_float16 = tensor.type(torch.float16)\n",
    "tensor_float16"
   ]
  },
  {
   "cell_type": "code",
   "execution_count": 44,
   "metadata": {},
   "outputs": [
    {
     "data": {
      "text/plain": [
       "tensor([10, 20, 30, 40, 50, 60, 70, 80, 90], dtype=torch.int8)"
      ]
     },
     "execution_count": 44,
     "metadata": {},
     "output_type": "execute_result"
    }
   ],
   "source": [
    "# create tensor int8\n",
    "tensor_int8 = tensor.type(torch.int8)\n",
    "tensor_int8"
   ]
  },
  {
   "cell_type": "code",
   "execution_count": 45,
   "metadata": {},
   "outputs": [
    {
     "data": {
      "text/plain": [
       "torch.Size([7])"
      ]
     },
     "execution_count": 45,
     "metadata": {},
     "output_type": "execute_result"
    }
   ],
   "source": [
    "# create tensor \n",
    "x = torch.arange(1.,8.)\n",
    "x.shape"
   ]
  },
  {
   "cell_type": "code",
   "execution_count": 46,
   "metadata": {},
   "outputs": [
    {
     "data": {
      "text/plain": [
       "tensor([[1., 2., 3., 4., 5., 6., 7.]])"
      ]
     },
     "execution_count": 46,
     "metadata": {},
     "output_type": "execute_result"
    }
   ],
   "source": [
    "x_reshaped = x.reshape(1,7)\n",
    "x_reshaped"
   ]
  },
  {
   "cell_type": "code",
   "execution_count": 47,
   "metadata": {},
   "outputs": [
    {
     "data": {
      "text/plain": [
       "torch.Size([1, 7])"
      ]
     },
     "execution_count": 47,
     "metadata": {},
     "output_type": "execute_result"
    }
   ],
   "source": [
    "x_reshaped.shape"
   ]
  },
  {
   "cell_type": "code",
   "execution_count": 49,
   "metadata": {},
   "outputs": [
    {
     "data": {
      "text/plain": [
       "tensor([[1., 2., 3., 4., 5., 6., 7.]])"
      ]
     },
     "execution_count": 49,
     "metadata": {},
     "output_type": "execute_result"
    }
   ],
   "source": [
    "# view method\n",
    "e = x.view(1,7)\n",
    "e"
   ]
  },
  {
   "cell_type": "code",
   "execution_count": 50,
   "metadata": {},
   "outputs": [],
   "source": [
    "# chnaging e change x\n",
    "e[:,0]=3"
   ]
  },
  {
   "cell_type": "code",
   "execution_count": 55,
   "metadata": {},
   "outputs": [
    {
     "data": {
      "text/plain": [
       "tensor([[3., 2., 3., 4., 5., 6., 7.]])"
      ]
     },
     "execution_count": 55,
     "metadata": {},
     "output_type": "execute_result"
    }
   ],
   "source": [
    "e"
   ]
  },
  {
   "cell_type": "code",
   "execution_count": 56,
   "metadata": {},
   "outputs": [
    {
     "data": {
      "text/plain": [
       "tensor([3., 2., 3., 4., 5., 6., 7.])"
      ]
     },
     "execution_count": 56,
     "metadata": {},
     "output_type": "execute_result"
    }
   ],
   "source": [
    "x"
   ]
  },
  {
   "cell_type": "code",
   "execution_count": 57,
   "metadata": {},
   "outputs": [
    {
     "data": {
      "text/plain": [
       "tensor([[3., 2., 3., 4., 5., 6., 7.],\n",
       "        [3., 2., 3., 4., 5., 6., 7.],\n",
       "        [3., 2., 3., 4., 5., 6., 7.],\n",
       "        [3., 2., 3., 4., 5., 6., 7.]])"
      ]
     },
     "execution_count": 57,
     "metadata": {},
     "output_type": "execute_result"
    }
   ],
   "source": [
    "# stack tensor\n",
    "x_stack = torch.stack([x,x,x,x],dim=0)\n",
    "x_stack"
   ]
  },
  {
   "cell_type": "code",
   "execution_count": 59,
   "metadata": {},
   "outputs": [
    {
     "data": {
      "text/plain": [
       "tensor([[3., 3., 3., 3.],\n",
       "        [2., 2., 2., 2.],\n",
       "        [3., 3., 3., 3.],\n",
       "        [4., 4., 4., 4.],\n",
       "        [5., 5., 5., 5.],\n",
       "        [6., 6., 6., 6.],\n",
       "        [7., 7., 7., 7.]])"
      ]
     },
     "execution_count": 59,
     "metadata": {},
     "output_type": "execute_result"
    }
   ],
   "source": [
    "x_stack = torch.stack([x,x,x,x],dim=1)\n",
    "x_stack"
   ]
  },
  {
   "cell_type": "code",
   "execution_count": 61,
   "metadata": {},
   "outputs": [
    {
     "data": {
      "text/plain": [
       "tensor([[3., 2., 3., 4., 5., 6., 7.]])"
      ]
     },
     "execution_count": 61,
     "metadata": {},
     "output_type": "execute_result"
    }
   ],
   "source": [
    "x_reshaped\n"
   ]
  },
  {
   "cell_type": "code",
   "execution_count": 66,
   "metadata": {},
   "outputs": [
    {
     "name": "stdout",
     "output_type": "stream",
     "text": [
      "preivous tensor:tensor([[3., 2., 3., 4., 5., 6., 7.]])\n",
      "preivous shape:torch.Size([1, 7]) \n",
      "ndim:2\n"
     ]
    }
   ],
   "source": [
    "print(f'preivous tensor:{x_reshaped}')\n",
    "print(f'preivous shape:{x_reshaped.shape} ')\n",
    "print(f'ndim:{x_reshaped.ndim}')"
   ]
  },
  {
   "cell_type": "code",
   "execution_count": 65,
   "metadata": {},
   "outputs": [
    {
     "name": "stdout",
     "output_type": "stream",
     "text": [
      "New\n",
      " tensor:tensor([3., 2., 3., 4., 5., 6., 7.])\n",
      "New\n",
      " shape:torch.Size([7])\n",
      "new ndim:1\n"
     ]
    }
   ],
   "source": [
    "x_squeeze = x_reshaped.squeeze()\n",
    "print(f'New\\n tensor:{x_squeeze}')\n",
    "print(f'New\\n shape:{x_squeeze.shape}')\n",
    "print(f'new ndim:{x_squeeze.ndim}')"
   ]
  },
  {
   "cell_type": "code",
   "execution_count": 67,
   "metadata": {},
   "outputs": [
    {
     "name": "stdout",
     "output_type": "stream",
     "text": [
      "New\n",
      " tensor:tensor([3., 2., 3., 4., 5., 6., 7.])\n",
      "New\n",
      " shape:torch.Size([1, 7])\n",
      "new ndim:2\n"
     ]
    }
   ],
   "source": [
    "x_squeeze = x_reshaped.squeeze()\n",
    "print(f'New\\n tensor:{x_squeeze}')\n",
    "# add extra dim\n",
    "x_unsqueeze = x_squeeze.unsqueeze(dim=0)\n",
    "print(f'New\\n shape:{x_unsqueeze.shape}')\n",
    "print(f'new ndim:{x_unsqueeze.ndim}')"
   ]
  },
  {
   "cell_type": "code",
   "execution_count": 69,
   "metadata": {},
   "outputs": [
    {
     "data": {
      "text/plain": [
       "tensor([[1, 2, 3],\n",
       "        [4, 5, 6],\n",
       "        [7, 8, 9]])"
      ]
     },
     "execution_count": 69,
     "metadata": {},
     "output_type": "execute_result"
    }
   ],
   "source": [
    "# permutation\n",
    "a = torch.arange(1,10).reshape(3,3)\n",
    "a"
   ]
  },
  {
   "cell_type": "code",
   "execution_count": 71,
   "metadata": {},
   "outputs": [
    {
     "data": {
      "text/plain": [
       "tensor([[1, 4, 7],\n",
       "        [2, 5, 8],\n",
       "        [3, 6, 9]])"
      ]
     },
     "execution_count": 71,
     "metadata": {},
     "output_type": "execute_result"
    }
   ],
   "source": [
    "b = a.permute(1,0)\n",
    "b"
   ]
  },
  {
   "cell_type": "code",
   "execution_count": 72,
   "metadata": {},
   "outputs": [
    {
     "data": {
      "text/plain": [
       "tensor([[[0.8726, 0.0718, 0.5808],\n",
       "         [0.1651, 0.1532, 0.4581],\n",
       "         [0.7041, 0.1055, 0.0575],\n",
       "         ...,\n",
       "         [0.9708, 0.0027, 0.6006],\n",
       "         [0.1245, 0.0634, 0.1478],\n",
       "         [0.4722, 0.3631, 0.4802]],\n",
       "\n",
       "        [[0.3398, 0.5565, 0.8336],\n",
       "         [0.2233, 0.0064, 0.1286],\n",
       "         [0.3168, 0.6086, 0.7529],\n",
       "         ...,\n",
       "         [0.7243, 0.1061, 0.2714],\n",
       "         [0.0026, 0.5992, 0.9962],\n",
       "         [0.2603, 0.3408, 0.9763]],\n",
       "\n",
       "        [[0.8135, 0.0856, 0.6361],\n",
       "         [0.0565, 0.1166, 0.5323],\n",
       "         [0.5189, 0.9074, 0.1996],\n",
       "         ...,\n",
       "         [0.7472, 0.4942, 0.6674],\n",
       "         [0.7417, 0.8892, 0.5513],\n",
       "         [0.4172, 0.7654, 0.7974]],\n",
       "\n",
       "        ...,\n",
       "\n",
       "        [[0.7402, 0.3578, 0.3785],\n",
       "         [0.5108, 0.0271, 0.1531],\n",
       "         [0.4872, 0.8285, 0.1490],\n",
       "         ...,\n",
       "         [0.4133, 0.4380, 0.3970],\n",
       "         [0.8268, 0.2797, 0.6066],\n",
       "         [0.6505, 0.9155, 0.2636]],\n",
       "\n",
       "        [[0.0616, 0.1188, 0.0392],\n",
       "         [0.8687, 0.9906, 0.3883],\n",
       "         [0.4520, 0.7435, 0.5708],\n",
       "         ...,\n",
       "         [0.9895, 0.7982, 0.3944],\n",
       "         [0.4146, 0.4626, 0.2442],\n",
       "         [0.8999, 0.5454, 0.0514]],\n",
       "\n",
       "        [[0.3270, 0.9254, 0.8156],\n",
       "         [0.9560, 0.8022, 0.3623],\n",
       "         [0.0122, 0.1842, 0.9900],\n",
       "         ...,\n",
       "         [0.3761, 0.6076, 0.3608],\n",
       "         [0.0421, 0.1733, 0.9827],\n",
       "         [0.5945, 0.7528, 0.4791]]])"
      ]
     },
     "execution_count": 72,
     "metadata": {},
     "output_type": "execute_result"
    }
   ],
   "source": [
    "# create tensor with some dim\n",
    "x_original = torch.rand(size=(224,224,3))\n",
    "x_original"
   ]
  },
  {
   "cell_type": "code",
   "execution_count": 73,
   "metadata": {},
   "outputs": [
    {
     "data": {
      "text/plain": [
       "3"
      ]
     },
     "execution_count": 73,
     "metadata": {},
     "output_type": "execute_result"
    }
   ],
   "source": [
    "x_original.ndim"
   ]
  },
  {
   "cell_type": "code",
   "execution_count": 76,
   "metadata": {},
   "outputs": [],
   "source": [
    "x_peru = x_original.permute(2,0,1)"
   ]
  },
  {
   "cell_type": "code",
   "execution_count": 77,
   "metadata": {},
   "outputs": [
    {
     "name": "stdout",
     "output_type": "stream",
     "text": [
      "preivous shape:torch.Size([224, 224, 3])\n",
      "New shape:torch.Size([3, 224, 224])\n"
     ]
    }
   ],
   "source": [
    "print(f'preivous shape:{x_original.shape}')\n",
    "print(f'New shape:{x_peru.shape}')"
   ]
  },
  {
   "cell_type": "code",
   "execution_count": null,
   "metadata": {},
   "outputs": [],
   "source": []
  }
 ],
 "metadata": {
  "kernelspec": {
   "display_name": "Python 3",
   "language": "python",
   "name": "python3"
  },
  "language_info": {
   "codemirror_mode": {
    "name": "ipython",
    "version": 3
   },
   "file_extension": ".py",
   "mimetype": "text/x-python",
   "name": "python",
   "nbconvert_exporter": "python",
   "pygments_lexer": "ipython3",
   "version": "3.7.6"
  }
 },
 "nbformat": 4,
 "nbformat_minor": 4
}
