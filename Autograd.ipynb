{
  "nbformat": 4,
  "nbformat_minor": 0,
  "metadata": {
    "colab": {
      "provenance": []
    },
    "kernelspec": {
      "name": "python3",
      "display_name": "Python 3"
    },
    "language_info": {
      "name": "python"
    }
  },
  "cells": [
    {
      "cell_type": "markdown",
      "source": [
        "# autograd:  an automatic differentiation package in the PyTorch library that helps train a neural network through graph computing.\n"
      ],
      "metadata": {
        "id": "_fbhd7Sz6VfD"
      }
    },
    {
      "cell_type": "markdown",
      "source": [
        "example of differentiation :\n",
        "\n",
        "f(x) = x²\n",
        "\n",
        "f'(x) = 2x"
      ],
      "metadata": {
        "id": "ZLsjEDzp5xAy"
      }
    },
    {
      "cell_type": "code",
      "source": [
        "# import packages\n",
        "import torch\n"
      ],
      "metadata": {
        "id": "Gx6tKD2G76MX"
      },
      "execution_count": 38,
      "outputs": []
    },
    {
      "cell_type": "code",
      "source": [
        "a = torch.tensor([5.],requires_grad=True)\n",
        "b = torch.tensor([2.],requires_grad=True)"
      ],
      "metadata": {
        "id": "nAnP0wZd83KY"
      },
      "execution_count": 39,
      "outputs": []
    },
    {
      "cell_type": "code",
      "source": [
        "a"
      ],
      "metadata": {
        "colab": {
          "base_uri": "https://localhost:8080/"
        },
        "id": "j7L3J3ke9QC_",
        "outputId": "74ed82d7-701c-46fc-91ed-2c2547256223"
      },
      "execution_count": 40,
      "outputs": [
        {
          "output_type": "execute_result",
          "data": {
            "text/plain": [
              "tensor([5.], requires_grad=True)"
            ]
          },
          "metadata": {},
          "execution_count": 40
        }
      ]
    },
    {
      "cell_type": "code",
      "source": [
        "b"
      ],
      "metadata": {
        "colab": {
          "base_uri": "https://localhost:8080/"
        },
        "id": "wirpMTJW9Q-u",
        "outputId": "94373e0e-1bca-4e1e-da0f-f9c5f7f15837"
      },
      "execution_count": 41,
      "outputs": [
        {
          "output_type": "execute_result",
          "data": {
            "text/plain": [
              "tensor([2.], requires_grad=True)"
            ]
          },
          "metadata": {},
          "execution_count": 41
        }
      ]
    },
    {
      "cell_type": "markdown",
      "source": [
        "![diff.PNG](data:image/png;base64,iVBORw0KGgoAAAANSUhEUgAAAKMAAAAqCAYAAADf0+uQAAAAAXNSR0IArs4c6QAAAARnQU1BAACxjwv8YQUAAAAJcEhZcwAADsMAAA7DAcdvqGQAAAVGSURBVHhe7Zovk7M8FMXfT4PC1dVV4XA4HAqHw0Xh+AQ4FA6Hq8LhcDgUDoeLO+8NpF3o027bLaXpTH4zzCx/dveSnNycm/AfNBpF0GLUKIMWo0YZtBg1yqDFqFEGLUaNMmgxapRBi1GjDFqMGmXQYtQogxajRhm0GDXKoMX4ArxJEQQMcejBYQU6eV0VuiOD59jY7x2wo2rR/YsW41/hFZgdo+biZEDhGzgkzXhLCfocwSmeLodnWIinYJVFi/GvUGd7hgG/6MfTOjJgeDmms8/TZg6iWp7QYDkGFF9UyXM10WL8MxxtVaGTmVF0tskquqoCIp4Ax0GeEtU4WAplBss1tBjXoC/gmx5yZWxZj8KjwREeSZaCFpmtmI24whvFOKApYgSuDdsWhwXLCZBWnx2bQ52dYxLGPkirF7JFjzL24dkOwq0LBPKBvmjXvQnjkOBSZn0RwE3qMVPzOsLBXGZKFXmLGHmbwd/t4GeNHJkT4rpnmrDjqZG2htcxnGBW9Y7G3oBF5uq1eDhKttv8vfjQIHVo+mXlL/+3QWJZ5B8/0eLPsboY+5LBosotqq4Pw6HwYdD9T8wYdUxZxDApi51i65C71JmGB1mHPAHHMPx0cJ97f/w7LzAcEdBg8vJb/5RTYeV+hRAFq4pRZB6LGsfJWnnlCpSNXHrG/Cn1NqOjCnMpxslL/UVEfbEU30mMN3XxDmj6NY3DzYE9HEP4ZyPL0bX9ppn7WdYTI68RW9Sxh0iuvd1ALol8ahmEz2MbqPAQsfjFwk48Aq8YDvR7p65ukgPMjavVNrNhmNTe8nwBDfogSFFSxV+NR4aQPKTKrCbGafoVWfGOkf+wGH8YUEUWjJ2P4lrIQ40scKbiy41QlgksM551PEeTMfgBQ0TPOSxHu2namSpmw4+RMneK02HyXeQ90c6zw9vUQzzPSmLskAkjbdj4bYYeaRIcRjH+nkV4LbbagieOGOVDbU0VMPko29rBsENcLYI7ypi7me8V3sykmN1cnS0/XoKJdrTY+b15GV6trL+FdcQojfQjDTF5KwP2XdVuQEfVvSGq/nbmpchH0sAyFxXqVOiYVC0rwzioL/wieUjhiVUK8xnWEeN56r3nmaY9XMNwcG823waxJCPiOZwrTuEFTepQVs3mXDnYghcX6nhXS//2wFF3vxYbXe5S3JQVZw/xko0D/QO14SqsK8Z7rUCZyKHnrA+tM2Lo0F3oaSwCKKYp653EebFAXMckUPflHZb1xCj3mi8G/7R09YBVUpSVPGONSHiqX4sS0dHUWNadaluyumek7BaKGE3yiTOhiSr4R4w9cmH8L7zhVLXK4oUPnxlIC6Y4l9t7cpnKydTxtU+ykhhFp1Jlepo2eIuc+fA8//wdXUde0bRuFAxb0BdT9r4Q4/gBwXlallXowi9KgQZin5cyUnhjKWVTppgWi91tClu8x3ze/jJWE+O4zmibsCKaYpLwvBjcphGS1Iflpqhfs1wvwlExC8F8HUdsB1K2tMIjda+8JBbG7ZTyjGBAnTg0RZMYhQUZCoSKfGzQptZPkUWDP/O2345cm/XEONKjSgM4+x324/qcSz/PdzyIvkHzMVFO8bkiNjosywHLl/vn4pkycuieeMZDUvUY6oTeY0/vkzxkMbahQ8HkOqiM89tZWYz/IpZy5lVomxdfuw6meS9vF2Od7KiwydAOA7qSwVFkmtOox/sz4/hBgSgS6PiCb+o0n+PtYhy/gt4ZMPce0uab7bXm3bxfjBrNg2gxapRBi1GjDFqMGmXQYtQogxajRhm0GDWKAPwPDGZOsF+AgowAAAAASUVORK5CYII=)"
      ],
      "metadata": {
        "id": "je3itR7R9Zn3"
      }
    },
    {
      "cell_type": "code",
      "source": [
        "Q = 3*a**3 - b**2"
      ],
      "metadata": {
        "id": "v16uvv5c9SHK"
      },
      "execution_count": 42,
      "outputs": []
    },
    {
      "cell_type": "code",
      "source": [
        "Q"
      ],
      "metadata": {
        "colab": {
          "base_uri": "https://localhost:8080/"
        },
        "id": "XiU_Ww5I9j38",
        "outputId": "fde86aae-eb35-435e-f0d2-c3fb6ac367f5"
      },
      "execution_count": 43,
      "outputs": [
        {
          "output_type": "execute_result",
          "data": {
            "text/plain": [
              "tensor([371.], grad_fn=<SubBackward0>)"
            ]
          },
          "metadata": {},
          "execution_count": 43
        }
      ]
    },
    {
      "cell_type": "markdown",
      "source": [
        "### my gradien for a and b will be:\n",
        "![diff1.PNG](data:image/png;base64,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)\n"
      ],
      "metadata": {
        "id": "upmH9nQr9294"
      }
    },
    {
      "cell_type": "code",
      "source": [
        "# dQ/da= 9a² =225\n",
        "# dQ/db = -2b=-4"
      ],
      "metadata": {
        "id": "r6pUwkOd9kaF"
      },
      "execution_count": null,
      "outputs": []
    },
    {
      "cell_type": "code",
      "source": [
        "Q.backward()"
      ],
      "metadata": {
        "id": "09cu_Us391rJ"
      },
      "execution_count": 44,
      "outputs": []
    },
    {
      "cell_type": "code",
      "source": [
        "a.grad"
      ],
      "metadata": {
        "colab": {
          "base_uri": "https://localhost:8080/"
        },
        "id": "0G8VN4-zAZ7C",
        "outputId": "c2cfef63-f84e-4d36-dc7d-9317b7845214"
      },
      "execution_count": 45,
      "outputs": [
        {
          "output_type": "execute_result",
          "data": {
            "text/plain": [
              "tensor([225.])"
            ]
          },
          "metadata": {},
          "execution_count": 45
        }
      ]
    },
    {
      "cell_type": "code",
      "source": [
        "b.grad"
      ],
      "metadata": {
        "colab": {
          "base_uri": "https://localhost:8080/"
        },
        "id": "iKCa3ruOApCP",
        "outputId": "96d4deb9-95ab-4425-f701-3922f7e0e2bf"
      },
      "execution_count": 46,
      "outputs": [
        {
          "output_type": "execute_result",
          "data": {
            "text/plain": [
              "tensor([-4.])"
            ]
          },
          "metadata": {},
          "execution_count": 46
        }
      ]
    },
    {
      "cell_type": "code",
      "source": [
        "W=torch.rand(10,1,requires_grad=True) # weigth\n",
        "b=torch.rand(1,requires_grad=True) # bias"
      ],
      "metadata": {
        "id": "OGMAPemqBmNT"
      },
      "execution_count": 47,
      "outputs": []
    },
    {
      "cell_type": "code",
      "source": [
        "W"
      ],
      "metadata": {
        "colab": {
          "base_uri": "https://localhost:8080/"
        },
        "id": "MS462-F6CDFg",
        "outputId": "e290bf8c-8ddd-4abc-fcd3-b8b002485013"
      },
      "execution_count": 48,
      "outputs": [
        {
          "output_type": "execute_result",
          "data": {
            "text/plain": [
              "tensor([[0.1573],\n",
              "        [0.1296],\n",
              "        [0.1276],\n",
              "        [0.4448],\n",
              "        [0.9567],\n",
              "        [0.3374],\n",
              "        [0.5308],\n",
              "        [0.2542],\n",
              "        [0.3103],\n",
              "        [0.8493]], requires_grad=True)"
            ]
          },
          "metadata": {},
          "execution_count": 48
        }
      ]
    },
    {
      "cell_type": "code",
      "source": [
        "# one feature\n",
        "x=torch.rand(1,10)"
      ],
      "metadata": {
        "id": "tXZNl5UmCEiY"
      },
      "execution_count": 49,
      "outputs": []
    },
    {
      "cell_type": "code",
      "source": [
        "x"
      ],
      "metadata": {
        "colab": {
          "base_uri": "https://localhost:8080/"
        },
        "id": "V1lVdPWfCQ9g",
        "outputId": "1f0650c1-91d0-4018-e6ec-aaf38b6589e0"
      },
      "execution_count": 50,
      "outputs": [
        {
          "output_type": "execute_result",
          "data": {
            "text/plain": [
              "tensor([[0.8489, 0.0623, 0.9804, 0.0371, 0.4672, 0.3003, 0.7431, 0.4632, 0.6524,\n",
              "         0.0794]])"
            ]
          },
          "metadata": {},
          "execution_count": 50
        }
      ]
    },
    {
      "cell_type": "code",
      "source": [
        "# linear regression\n",
        "output=torch.matmul(x,W) + b"
      ],
      "metadata": {
        "id": "CxFuZHApCR9B"
      },
      "execution_count": 51,
      "outputs": []
    },
    {
      "cell_type": "code",
      "source": [
        "loss = 1 - output"
      ],
      "metadata": {
        "id": "N26jvfLpC7rT"
      },
      "execution_count": 52,
      "outputs": []
    },
    {
      "cell_type": "code",
      "source": [
        "loss"
      ],
      "metadata": {
        "colab": {
          "base_uri": "https://localhost:8080/"
        },
        "id": "M2MeuirHDEX2",
        "outputId": "61994880-89d4-48fd-a423-a2674dceb6cf"
      },
      "execution_count": 53,
      "outputs": [
        {
          "output_type": "execute_result",
          "data": {
            "text/plain": [
              "tensor([[-0.9609]], grad_fn=<RsubBackward1>)"
            ]
          },
          "metadata": {},
          "execution_count": 53
        }
      ]
    },
    {
      "cell_type": "code",
      "source": [
        "output"
      ],
      "metadata": {
        "colab": {
          "base_uri": "https://localhost:8080/"
        },
        "id": "Z1SgXs5-DVT6",
        "outputId": "8e2db9b0-3fda-42db-983f-6df20df8d78a"
      },
      "execution_count": 54,
      "outputs": [
        {
          "output_type": "execute_result",
          "data": {
            "text/plain": [
              "tensor([[1.9609]], grad_fn=<AddBackward0>)"
            ]
          },
          "metadata": {},
          "execution_count": 54
        }
      ]
    },
    {
      "cell_type": "code",
      "source": [
        "# next step is\n",
        "\n",
        "loss.backward()"
      ],
      "metadata": {
        "id": "xegjoJ1zDWt3"
      },
      "execution_count": 55,
      "outputs": []
    },
    {
      "cell_type": "code",
      "source": [
        "# now the weight are updated\n",
        "W.grad"
      ],
      "metadata": {
        "colab": {
          "base_uri": "https://localhost:8080/"
        },
        "id": "9F4Wy03WDxLk",
        "outputId": "65303f99-5889-4cb3-a5fe-f57a493ccd23"
      },
      "execution_count": 56,
      "outputs": [
        {
          "output_type": "execute_result",
          "data": {
            "text/plain": [
              "tensor([[-0.8489],\n",
              "        [-0.0623],\n",
              "        [-0.9804],\n",
              "        [-0.0371],\n",
              "        [-0.4672],\n",
              "        [-0.3003],\n",
              "        [-0.7431],\n",
              "        [-0.4632],\n",
              "        [-0.6524],\n",
              "        [-0.0794]])"
            ]
          },
          "metadata": {},
          "execution_count": 56
        }
      ]
    },
    {
      "cell_type": "code",
      "source": [
        "# new weight\n",
        "learning_rate=0.001\n",
        "with torch.no_grad():\n",
        "  W = W - learning_rate * W.grad.data"
      ],
      "metadata": {
        "id": "sZ3Ma-LlEhpH"
      },
      "execution_count": 57,
      "outputs": []
    },
    {
      "cell_type": "code",
      "source": [
        "W"
      ],
      "metadata": {
        "colab": {
          "base_uri": "https://localhost:8080/"
        },
        "id": "jsgf3kf-GAHa",
        "outputId": "9389e522-63eb-49bc-b144-6f1400f8c539"
      },
      "execution_count": 58,
      "outputs": [
        {
          "output_type": "execute_result",
          "data": {
            "text/plain": [
              "tensor([[0.1582],\n",
              "        [0.1297],\n",
              "        [0.1286],\n",
              "        [0.4448],\n",
              "        [0.9571],\n",
              "        [0.3377],\n",
              "        [0.5315],\n",
              "        [0.2547],\n",
              "        [0.3109],\n",
              "        [0.8494]])"
            ]
          },
          "metadata": {},
          "execution_count": 58
        }
      ]
    },
    {
      "cell_type": "markdown",
      "source": [
        "![neural.png](data:image/png;base64,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)"
      ],
      "metadata": {
        "id": "woX2tWbIGcKo"
      }
    },
    {
      "cell_type": "code",
      "source": [],
      "metadata": {
        "id": "BpvjyVFcGhvS"
      },
      "execution_count": null,
      "outputs": []
    }
  ]
}